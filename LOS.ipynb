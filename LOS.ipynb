{
 "cells": [
  {
   "cell_type": "markdown",
   "id": "08ad8a74",
   "metadata": {},
   "source": [
    "# Data-preprocesing Pipeline\n",
    "## 1. Basic Data Cleaning\n",
    "### A. Label encoding\n",
    "### B. Handling missing data\n",
    "## 2. Data exploration\n",
    "### A. Outlier detection\n",
    "## 3. Feature engineering"
   ]
  },
  {
   "cell_type": "markdown",
   "id": "d58bfb8e",
   "metadata": {},
   "source": [
    "# 1. Basic Data Cleaning"
   ]
  },
  {
   "cell_type": "code",
   "execution_count": 727,
   "id": "feb1f11d",
   "metadata": {},
   "outputs": [],
   "source": [
    "# Export the required libraries\n",
    "import pandas as pd \n",
    "import numpy as np\n",
    "from sklearn.impute import SimpleImputer\n",
    "from sklearn.preprocessing import LabelEncoder"
   ]
  },
  {
   "cell_type": "code",
   "execution_count": 728,
   "id": "4b37acf0",
   "metadata": {
    "scrolled": true
   },
   "outputs": [],
   "source": [
    "# Read training data\n",
    "df = pd.read_csv('Datasets/train.csv')"
   ]
  },
  {
   "cell_type": "code",
   "execution_count": 729,
   "id": "10923e73",
   "metadata": {},
   "outputs": [],
   "source": [
    "# Replace 'Nov-20' with '11-20' in the columns 'Stay' and 'Age'\n",
    "df['Stay'].replace(['Nov-20'], '11-20', inplace=True)\n",
    "df['Age'].replace(['Nov-20'], '11-20', inplace=True)"
   ]
  },
  {
   "cell_type": "markdown",
   "id": "6e38aac2",
   "metadata": {},
   "source": [
    "## A. Label Encoding"
   ]
  },
  {
   "cell_type": "code",
   "execution_count": 730,
   "id": "980962e3",
   "metadata": {},
   "outputs": [
    {
     "data": {
      "text/plain": [
       "['Hospital_type_code',\n",
       " 'Hospital_region_code',\n",
       " 'Department',\n",
       " 'Ward_Type',\n",
       " 'Ward_Facility_Code',\n",
       " 'Type of Admission',\n",
       " 'Severity of Illness',\n",
       " 'Age',\n",
       " 'Stay']"
      ]
     },
     "execution_count": 730,
     "metadata": {},
     "output_type": "execute_result"
    }
   ],
   "source": [
    "# Learn the categorical features\n",
    "category = [feature for feature in df.columns if df[feature].dtype == 'O']\n",
    "category"
   ]
  },
  {
   "cell_type": "code",
   "execution_count": 731,
   "id": "17a6a7f1",
   "metadata": {},
   "outputs": [
    {
     "name": "stdout",
     "output_type": "stream",
     "text": [
      "Feature 'Hospital_type_code' has 7 unique categories\n",
      "Feature 'Hospital_region_code' has 3 unique categories\n",
      "Feature 'Department' has 5 unique categories\n",
      "Feature 'Ward_Type' has 6 unique categories\n",
      "Feature 'Ward_Facility_Code' has 6 unique categories\n",
      "Feature 'Type of Admission' has 3 unique categories\n",
      "Feature 'Severity of Illness' has 3 unique categories\n",
      "Feature 'Age' has 10 unique categories\n",
      "Feature 'Stay' has 11 unique categories\n"
     ]
    }
   ],
   "source": [
    "# Learn the unique categories of the categorical features\n",
    "for col_name in df.columns:\n",
    "    if df[col_name].dtypes == 'object':\n",
    "        unique_cat = len(df[col_name].unique())\n",
    "        print(f\"Feature '{col_name}' has {unique_cat} unique categories\")"
   ]
  },
  {
   "cell_type": "code",
   "execution_count": 732,
   "id": "782455bf",
   "metadata": {},
   "outputs": [],
   "source": [
    "# Ordinal feature encoding\n",
    "map_admin = {'Urgent' : 3, 'Emergency' : 2, 'Trauma' : 1}\n",
    "map_ill = {'Extreme' : 3, 'Moderate' : 2, 'Minor' : 1}\n",
    "\n",
    "df['Severity of Illness'] = df['Severity of Illness'].map(map_ill)\n",
    "df['Type of Admission'] = df['Type of Admission'].map(map_admin)"
   ]
  },
  {
   "cell_type": "code",
   "execution_count": 733,
   "id": "c007a9fe",
   "metadata": {},
   "outputs": [],
   "source": [
    "# Numeric feature encoding\n",
    "df['Age'] = df['Age'].map({'0-10': 0,\n",
    "                          '11-20': 1,\n",
    "                          '21-30': 2,\n",
    "                          '31-40': 3,\n",
    "                          '41-50': 4,\n",
    "                          '51-60': 5,\n",
    "                          '61-70': 6,\n",
    "                          '71-80': 7,\n",
    "                          '81-90': 8,\n",
    "                          '91-100': 9\n",
    "                         })\n",
    "\n",
    "df['Stay'] = df['Stay'].map({'21-30': 2,\n",
    " '11-20': 1,\n",
    " '31-40': 3,\n",
    " '51-60': 5,\n",
    " '0-10': 0,\n",
    " '41-50': 4,\n",
    " '71-80': 7,\n",
    " 'More than 100 Days': 10,\n",
    " '81-90': 8,\n",
    " '91-100': 9,\n",
    " '61-70': 6}\n",
    ")"
   ]
  },
  {
   "cell_type": "code",
   "execution_count": 734,
   "id": "e8a7948e",
   "metadata": {},
   "outputs": [
    {
     "data": {
      "text/plain": [
       "['Hospital_type_code',\n",
       " 'Hospital_region_code',\n",
       " 'Department',\n",
       " 'Ward_Type',\n",
       " 'Ward_Facility_Code']"
      ]
     },
     "execution_count": 734,
     "metadata": {},
     "output_type": "execute_result"
    }
   ],
   "source": [
    "category = [feature for feature in df.columns if df[feature].dtype == 'O']\n",
    "category"
   ]
  },
  {
   "cell_type": "code",
   "execution_count": 735,
   "id": "71d597e4",
   "metadata": {},
   "outputs": [],
   "source": [
    "# Categorical feature encoding by one-hot encoding\n",
    "# As the dimension will be too high if I transform all the categorical features\n",
    "# I only translate 'Hospital_region_code' (3 categories) and 'Department' (an essential categorical feature comparing to others)\n",
    "\n",
    "# Create a list of features to dummy\n",
    "todummy_list = ['Hospital_region_code', 'Department']"
   ]
  },
  {
   "cell_type": "code",
   "execution_count": 736,
   "id": "172515f6",
   "metadata": {},
   "outputs": [],
   "source": [
    "# Function to dummy all the categorical variables\n",
    "def dummy_df(df, todummy_list):\n",
    "    for x in todummy_list:\n",
    "        dummies = pd.get_dummies(df[x], prefix=x, dummy_na=False)\n",
    "        df = df.drop(columns=x)\n",
    "        df = pd.concat([df, dummies], axis=1)\n",
    "    return df"
   ]
  },
  {
   "cell_type": "code",
   "execution_count": 737,
   "id": "9790561f",
   "metadata": {
    "scrolled": true
   },
   "outputs": [
    {
     "data": {
      "text/html": [
       "<div>\n",
       "<style scoped>\n",
       "    .dataframe tbody tr th:only-of-type {\n",
       "        vertical-align: middle;\n",
       "    }\n",
       "\n",
       "    .dataframe tbody tr th {\n",
       "        vertical-align: top;\n",
       "    }\n",
       "\n",
       "    .dataframe thead th {\n",
       "        text-align: right;\n",
       "    }\n",
       "</style>\n",
       "<table border=\"1\" class=\"dataframe\">\n",
       "  <thead>\n",
       "    <tr style=\"text-align: right;\">\n",
       "      <th></th>\n",
       "      <th>case_id</th>\n",
       "      <th>Hospital_code</th>\n",
       "      <th>Hospital_type_code</th>\n",
       "      <th>City_Code_Hospital</th>\n",
       "      <th>Available Extra Rooms in Hospital</th>\n",
       "      <th>Ward_Type</th>\n",
       "      <th>Ward_Facility_Code</th>\n",
       "      <th>call night</th>\n",
       "      <th>Bed Grade</th>\n",
       "      <th>patientid</th>\n",
       "      <th>...</th>\n",
       "      <th>Admission_Deposit</th>\n",
       "      <th>Stay</th>\n",
       "      <th>Hospital_region_code_X</th>\n",
       "      <th>Hospital_region_code_Y</th>\n",
       "      <th>Hospital_region_code_Z</th>\n",
       "      <th>Department_TB &amp; Chest disease</th>\n",
       "      <th>Department_anesthesia</th>\n",
       "      <th>Department_gynecology</th>\n",
       "      <th>Department_radiotherapy</th>\n",
       "      <th>Department_surgery</th>\n",
       "    </tr>\n",
       "  </thead>\n",
       "  <tbody>\n",
       "    <tr>\n",
       "      <th>0</th>\n",
       "      <td>1</td>\n",
       "      <td>8</td>\n",
       "      <td>c</td>\n",
       "      <td>3</td>\n",
       "      <td>3</td>\n",
       "      <td>R</td>\n",
       "      <td>F</td>\n",
       "      <td>1</td>\n",
       "      <td>2.0</td>\n",
       "      <td>31397</td>\n",
       "      <td>...</td>\n",
       "      <td>4911</td>\n",
       "      <td>0</td>\n",
       "      <td>0</td>\n",
       "      <td>0</td>\n",
       "      <td>1</td>\n",
       "      <td>0</td>\n",
       "      <td>0</td>\n",
       "      <td>0</td>\n",
       "      <td>1</td>\n",
       "      <td>0</td>\n",
       "    </tr>\n",
       "    <tr>\n",
       "      <th>1</th>\n",
       "      <td>2</td>\n",
       "      <td>2</td>\n",
       "      <td>c</td>\n",
       "      <td>5</td>\n",
       "      <td>2</td>\n",
       "      <td>S</td>\n",
       "      <td>F</td>\n",
       "      <td>0</td>\n",
       "      <td>2.0</td>\n",
       "      <td>31397</td>\n",
       "      <td>...</td>\n",
       "      <td>5954</td>\n",
       "      <td>4</td>\n",
       "      <td>0</td>\n",
       "      <td>0</td>\n",
       "      <td>1</td>\n",
       "      <td>0</td>\n",
       "      <td>0</td>\n",
       "      <td>0</td>\n",
       "      <td>1</td>\n",
       "      <td>0</td>\n",
       "    </tr>\n",
       "    <tr>\n",
       "      <th>2</th>\n",
       "      <td>3</td>\n",
       "      <td>10</td>\n",
       "      <td>e</td>\n",
       "      <td>1</td>\n",
       "      <td>2</td>\n",
       "      <td>S</td>\n",
       "      <td>E</td>\n",
       "      <td>0</td>\n",
       "      <td>2.0</td>\n",
       "      <td>31397</td>\n",
       "      <td>...</td>\n",
       "      <td>4745</td>\n",
       "      <td>3</td>\n",
       "      <td>1</td>\n",
       "      <td>0</td>\n",
       "      <td>0</td>\n",
       "      <td>0</td>\n",
       "      <td>1</td>\n",
       "      <td>0</td>\n",
       "      <td>0</td>\n",
       "      <td>0</td>\n",
       "    </tr>\n",
       "    <tr>\n",
       "      <th>3</th>\n",
       "      <td>4</td>\n",
       "      <td>26</td>\n",
       "      <td>b</td>\n",
       "      <td>2</td>\n",
       "      <td>2</td>\n",
       "      <td>R</td>\n",
       "      <td>D</td>\n",
       "      <td>1</td>\n",
       "      <td>2.0</td>\n",
       "      <td>31397</td>\n",
       "      <td>...</td>\n",
       "      <td>7272</td>\n",
       "      <td>4</td>\n",
       "      <td>0</td>\n",
       "      <td>1</td>\n",
       "      <td>0</td>\n",
       "      <td>0</td>\n",
       "      <td>0</td>\n",
       "      <td>0</td>\n",
       "      <td>1</td>\n",
       "      <td>0</td>\n",
       "    </tr>\n",
       "    <tr>\n",
       "      <th>4</th>\n",
       "      <td>5</td>\n",
       "      <td>26</td>\n",
       "      <td>b</td>\n",
       "      <td>2</td>\n",
       "      <td>2</td>\n",
       "      <td>S</td>\n",
       "      <td>D</td>\n",
       "      <td>0</td>\n",
       "      <td>2.0</td>\n",
       "      <td>31397</td>\n",
       "      <td>...</td>\n",
       "      <td>5558</td>\n",
       "      <td>4</td>\n",
       "      <td>0</td>\n",
       "      <td>1</td>\n",
       "      <td>0</td>\n",
       "      <td>0</td>\n",
       "      <td>0</td>\n",
       "      <td>0</td>\n",
       "      <td>1</td>\n",
       "      <td>0</td>\n",
       "    </tr>\n",
       "  </tbody>\n",
       "</table>\n",
       "<p>5 rows × 25 columns</p>\n",
       "</div>"
      ],
      "text/plain": [
       "   case_id  Hospital_code Hospital_type_code  City_Code_Hospital  \\\n",
       "0        1              8                  c                   3   \n",
       "1        2              2                  c                   5   \n",
       "2        3             10                  e                   1   \n",
       "3        4             26                  b                   2   \n",
       "4        5             26                  b                   2   \n",
       "\n",
       "   Available Extra Rooms in Hospital Ward_Type Ward_Facility_Code  call night  \\\n",
       "0                                  3         R                  F           1   \n",
       "1                                  2         S                  F           0   \n",
       "2                                  2         S                  E           0   \n",
       "3                                  2         R                  D           1   \n",
       "4                                  2         S                  D           0   \n",
       "\n",
       "   Bed Grade  patientid  ...  Admission_Deposit  Stay  Hospital_region_code_X  \\\n",
       "0        2.0      31397  ...               4911     0                       0   \n",
       "1        2.0      31397  ...               5954     4                       0   \n",
       "2        2.0      31397  ...               4745     3                       1   \n",
       "3        2.0      31397  ...               7272     4                       0   \n",
       "4        2.0      31397  ...               5558     4                       0   \n",
       "\n",
       "   Hospital_region_code_Y  Hospital_region_code_Z  \\\n",
       "0                       0                       1   \n",
       "1                       0                       1   \n",
       "2                       0                       0   \n",
       "3                       1                       0   \n",
       "4                       1                       0   \n",
       "\n",
       "   Department_TB & Chest disease  Department_anesthesia  \\\n",
       "0                              0                      0   \n",
       "1                              0                      0   \n",
       "2                              0                      1   \n",
       "3                              0                      0   \n",
       "4                              0                      0   \n",
       "\n",
       "   Department_gynecology  Department_radiotherapy  Department_surgery  \n",
       "0                      0                        1                   0  \n",
       "1                      0                        1                   0  \n",
       "2                      0                        0                   0  \n",
       "3                      0                        1                   0  \n",
       "4                      0                        1                   0  \n",
       "\n",
       "[5 rows x 25 columns]"
      ]
     },
     "execution_count": 737,
     "metadata": {},
     "output_type": "execute_result"
    }
   ],
   "source": [
    "df = dummy_df(df, todummy_list)\n",
    "df.head(5)"
   ]
  },
  {
   "cell_type": "code",
   "execution_count": 738,
   "id": "60a1d6f2",
   "metadata": {},
   "outputs": [
    {
     "name": "stdout",
     "output_type": "stream",
     "text": [
      "['c' 'e' 'b' 'a' 'f' 'd' 'g']\n"
     ]
    },
    {
     "data": {
      "text/plain": [
       "0    2\n",
       "1    2\n",
       "2    4\n",
       "3    1\n",
       "4    1\n",
       "5    0\n",
       "Name: Hospital_type_code, dtype: int32"
      ]
     },
     "execution_count": 738,
     "metadata": {},
     "output_type": "execute_result"
    }
   ],
   "source": [
    "# Rest of the categorical data -> convert to numerical\n",
    "# Check data categories\n",
    "print(df['Hospital_type_code'].unique())\n",
    "\n",
    "le = LabelEncoder()\n",
    "df['Hospital_type_code'] = le.fit_transform(df['Hospital_type_code'])\n",
    "df['Hospital_type_code'].head(6)"
   ]
  },
  {
   "cell_type": "code",
   "execution_count": 739,
   "id": "322a9e9a",
   "metadata": {},
   "outputs": [
    {
     "name": "stdout",
     "output_type": "stream",
     "text": [
      "['R' 'S' 'Q' 'P' 'T' 'U']\n"
     ]
    },
    {
     "data": {
      "text/plain": [
       "0    2\n",
       "1    3\n",
       "2    3\n",
       "3    2\n",
       "4    3\n",
       "5    3\n",
       "Name: Ward_Type, dtype: int32"
      ]
     },
     "execution_count": 739,
     "metadata": {},
     "output_type": "execute_result"
    }
   ],
   "source": [
    "# Check data categories\n",
    "print(df['Ward_Type'].unique())\n",
    "\n",
    "df['Ward_Type'] = le.fit_transform(df['Ward_Type'])\n",
    "df['Ward_Type'].head(6)"
   ]
  },
  {
   "cell_type": "code",
   "execution_count": 740,
   "id": "4f7156f7",
   "metadata": {},
   "outputs": [
    {
     "name": "stdout",
     "output_type": "stream",
     "text": [
      "['F' 'E' 'D' 'B' 'A' 'C']\n"
     ]
    },
    {
     "data": {
      "text/plain": [
       "0    5\n",
       "1    5\n",
       "2    4\n",
       "3    3\n",
       "4    3\n",
       "5    5\n",
       "Name: Ward_Facility_Code, dtype: int32"
      ]
     },
     "execution_count": 740,
     "metadata": {},
     "output_type": "execute_result"
    }
   ],
   "source": [
    "# Check data categories\n",
    "print(df['Ward_Facility_Code'].unique())\n",
    "\n",
    "df['Ward_Facility_Code'] = le.fit_transform(df['Ward_Facility_Code'])\n",
    "df['Ward_Facility_Code'].head(6)"
   ]
  },
  {
   "cell_type": "code",
   "execution_count": 741,
   "id": "19851cf4",
   "metadata": {},
   "outputs": [],
   "source": [
    "# # Rearrange list column (let Stay be the last)\n",
    "# print(list(df.columns.values))\n",
    "# df = df[['case_id', 'Hospital_code', 'Hospital_type_code', 'City_Code_Hospital', 'Available Extra Rooms in Hospital', 'Ward_Type', 'Ward_Facility_Code', 'call night', 'Bed Grade', 'patientid', 'City_Code_Patient', 'Type of Admission', 'Severity of Illness', 'Visitors with Patient', 'Age', 'Admission_Deposit', 'Hospital_region_code_X', 'Hospital_region_code_Y', 'Hospital_region_code_Z', 'Department_TB & Chest disease', 'Department_anesthesia', 'Department_gynecology', 'Department_radiotherapy', 'Department_surgery', 'Stay']]"
   ]
  },
  {
   "cell_type": "markdown",
   "id": "30bc8a8d",
   "metadata": {},
   "source": [
    "## B.Handling missing data"
   ]
  },
  {
   "cell_type": "code",
   "execution_count": 742,
   "id": "f3ed5937",
   "metadata": {},
   "outputs": [
    {
     "data": {
      "text/plain": [
       "City_Code_Patient          4532\n",
       "Bed Grade                   113\n",
       "case_id                       0\n",
       "Age                           0\n",
       "Department_radiotherapy       0\n",
       "dtype: int64"
      ]
     },
     "execution_count": 742,
     "metadata": {},
     "output_type": "execute_result"
    }
   ],
   "source": [
    "# Check the number of missing data\n",
    "df.isnull().sum().sort_values(ascending=False).head()"
   ]
  },
  {
   "cell_type": "code",
   "execution_count": 743,
   "id": "83ab42e7",
   "metadata": {},
   "outputs": [
    {
     "data": {
      "text/plain": [
       "City_Code_Patient          4532\n",
       "case_id                       0\n",
       "Visitors with Patient         0\n",
       "Department_radiotherapy       0\n",
       "Department_gynecology         0\n",
       "dtype: int64"
      ]
     },
     "execution_count": 743,
     "metadata": {},
     "output_type": "execute_result"
    }
   ],
   "source": [
    "# Use the mean to replace missing data\n",
    "# Don't replace missing data of city_code_patient by mean since it will lead to a poor model\n",
    "df['Bed Grade'] = df['Bed Grade'].fillna(df['Bed Grade'].mean())\n",
    "df.isnull().sum().sort_values(ascending=False).head()"
   ]
  },
  {
   "cell_type": "markdown",
   "id": "25851de2",
   "metadata": {},
   "source": [
    "## C. Basic feature engineering "
   ]
  },
  {
   "cell_type": "code",
   "execution_count": 744,
   "id": "4eaa2f7d",
   "metadata": {},
   "outputs": [],
   "source": [
    "# Create additional features by the relationships between different columns (features)\n",
    "df['sum_Admission_Deposit_per_illness']=df.groupby(['Severity of Illness'])['Admission_Deposit'].transform('sum')\n",
    "df['sum_Admission_Deposit_per_admission']=df.groupby(['Type of Admission'])['Admission_Deposit'].transform('sum')\n",
    "df['sum_Admission_Deposit_per_bed']=df.groupby(['Bed Grade'])['Admission_Deposit'].transform('sum')\n",
    "#df['sum_Admission_Deposit_per_department']=df.groupby(['Department'])['Admission_Deposit'].transform('sum')\n",
    "df['sum_Admission_Deposit_per_hosp']=df.groupby(['Hospital_code'])['Admission_Deposit'].transform('sum')"
   ]
  },
  {
   "cell_type": "code",
   "execution_count": 745,
   "id": "0b546860",
   "metadata": {},
   "outputs": [],
   "source": [
    "df['mean_Admission_Deposit_per_illness']=df.groupby(['Severity of Illness'])['Admission_Deposit'].transform('mean')\n",
    "df['mean_Admission_Deposit_per_admission']=df.groupby(['Type of Admission'])['Admission_Deposit'].transform('mean')\n",
    "df['mean_Admission_Deposit_per_bed']=df.groupby(['Bed Grade'])['Admission_Deposit'].transform('mean')\n",
    "#df['mean_Admission_Deposit_per_department']=df.groupby(['Department'])['Admission_Deposit'].transform('mean')\n",
    "df['mean_Admission_Deposit_per_hosp']=df.groupby(['Hospital_code'])['Admission_Deposit'].transform('mean')"
   ]
  },
  {
   "cell_type": "markdown",
   "id": "66ec323f",
   "metadata": {},
   "source": [
    "## D. Remove useless data"
   ]
  },
  {
   "cell_type": "code",
   "execution_count": 746,
   "id": "395aca37",
   "metadata": {},
   "outputs": [
    {
     "data": {
      "text/html": [
       "<div>\n",
       "<style scoped>\n",
       "    .dataframe tbody tr th:only-of-type {\n",
       "        vertical-align: middle;\n",
       "    }\n",
       "\n",
       "    .dataframe tbody tr th {\n",
       "        vertical-align: top;\n",
       "    }\n",
       "\n",
       "    .dataframe thead th {\n",
       "        text-align: right;\n",
       "    }\n",
       "</style>\n",
       "<table border=\"1\" class=\"dataframe\">\n",
       "  <thead>\n",
       "    <tr style=\"text-align: right;\">\n",
       "      <th></th>\n",
       "      <th>Hospital_code</th>\n",
       "      <th>Hospital_type_code</th>\n",
       "      <th>City_Code_Hospital</th>\n",
       "      <th>Available Extra Rooms in Hospital</th>\n",
       "      <th>Ward_Type</th>\n",
       "      <th>Ward_Facility_Code</th>\n",
       "      <th>call night</th>\n",
       "      <th>Bed Grade</th>\n",
       "      <th>City_Code_Patient</th>\n",
       "      <th>Type of Admission</th>\n",
       "      <th>...</th>\n",
       "      <th>Department_radiotherapy</th>\n",
       "      <th>Department_surgery</th>\n",
       "      <th>sum_Admission_Deposit_per_illness</th>\n",
       "      <th>sum_Admission_Deposit_per_admission</th>\n",
       "      <th>sum_Admission_Deposit_per_bed</th>\n",
       "      <th>sum_Admission_Deposit_per_hosp</th>\n",
       "      <th>mean_Admission_Deposit_per_illness</th>\n",
       "      <th>mean_Admission_Deposit_per_admission</th>\n",
       "      <th>mean_Admission_Deposit_per_bed</th>\n",
       "      <th>mean_Admission_Deposit_per_hosp</th>\n",
       "    </tr>\n",
       "  </thead>\n",
       "  <tbody>\n",
       "    <tr>\n",
       "      <th>0</th>\n",
       "      <td>8</td>\n",
       "      <td>2</td>\n",
       "      <td>3</td>\n",
       "      <td>3</td>\n",
       "      <td>2</td>\n",
       "      <td>5</td>\n",
       "      <td>1</td>\n",
       "      <td>2.0</td>\n",
       "      <td>7.0</td>\n",
       "      <td>2</td>\n",
       "      <td>...</td>\n",
       "      <td>1</td>\n",
       "      <td>0</td>\n",
       "      <td>269303142</td>\n",
       "      <td>561116896</td>\n",
       "      <td>599761755</td>\n",
       "      <td>18070530</td>\n",
       "      <td>4747.688627</td>\n",
       "      <td>4768.320609</td>\n",
       "      <td>4849.655578</td>\n",
       "      <td>4933.259623</td>\n",
       "    </tr>\n",
       "    <tr>\n",
       "      <th>1</th>\n",
       "      <td>2</td>\n",
       "      <td>2</td>\n",
       "      <td>5</td>\n",
       "      <td>2</td>\n",
       "      <td>3</td>\n",
       "      <td>5</td>\n",
       "      <td>0</td>\n",
       "      <td>2.0</td>\n",
       "      <td>7.0</td>\n",
       "      <td>1</td>\n",
       "      <td>...</td>\n",
       "      <td>1</td>\n",
       "      <td>0</td>\n",
       "      <td>269303142</td>\n",
       "      <td>759271759</td>\n",
       "      <td>599761755</td>\n",
       "      <td>25510660</td>\n",
       "      <td>4747.688627</td>\n",
       "      <td>4986.646344</td>\n",
       "      <td>4849.655578</td>\n",
       "      <td>5000.129361</td>\n",
       "    </tr>\n",
       "    <tr>\n",
       "      <th>2</th>\n",
       "      <td>10</td>\n",
       "      <td>4</td>\n",
       "      <td>1</td>\n",
       "      <td>2</td>\n",
       "      <td>3</td>\n",
       "      <td>4</td>\n",
       "      <td>0</td>\n",
       "      <td>2.0</td>\n",
       "      <td>7.0</td>\n",
       "      <td>1</td>\n",
       "      <td>...</td>\n",
       "      <td>0</td>\n",
       "      <td>0</td>\n",
       "      <td>269303142</td>\n",
       "      <td>759271759</td>\n",
       "      <td>599761755</td>\n",
       "      <td>42984606</td>\n",
       "      <td>4747.688627</td>\n",
       "      <td>4986.646344</td>\n",
       "      <td>4849.655578</td>\n",
       "      <td>4555.867091</td>\n",
       "    </tr>\n",
       "    <tr>\n",
       "      <th>3</th>\n",
       "      <td>26</td>\n",
       "      <td>1</td>\n",
       "      <td>2</td>\n",
       "      <td>2</td>\n",
       "      <td>2</td>\n",
       "      <td>3</td>\n",
       "      <td>1</td>\n",
       "      <td>2.0</td>\n",
       "      <td>7.0</td>\n",
       "      <td>1</td>\n",
       "      <td>...</td>\n",
       "      <td>1</td>\n",
       "      <td>0</td>\n",
       "      <td>269303142</td>\n",
       "      <td>759271759</td>\n",
       "      <td>599761755</td>\n",
       "      <td>161993571</td>\n",
       "      <td>4747.688627</td>\n",
       "      <td>4986.646344</td>\n",
       "      <td>4849.655578</td>\n",
       "      <td>4897.616731</td>\n",
       "    </tr>\n",
       "    <tr>\n",
       "      <th>4</th>\n",
       "      <td>26</td>\n",
       "      <td>1</td>\n",
       "      <td>2</td>\n",
       "      <td>2</td>\n",
       "      <td>3</td>\n",
       "      <td>3</td>\n",
       "      <td>0</td>\n",
       "      <td>2.0</td>\n",
       "      <td>7.0</td>\n",
       "      <td>1</td>\n",
       "      <td>...</td>\n",
       "      <td>1</td>\n",
       "      <td>0</td>\n",
       "      <td>269303142</td>\n",
       "      <td>759271759</td>\n",
       "      <td>599761755</td>\n",
       "      <td>161993571</td>\n",
       "      <td>4747.688627</td>\n",
       "      <td>4986.646344</td>\n",
       "      <td>4849.655578</td>\n",
       "      <td>4897.616731</td>\n",
       "    </tr>\n",
       "  </tbody>\n",
       "</table>\n",
       "<p>5 rows × 31 columns</p>\n",
       "</div>"
      ],
      "text/plain": [
       "   Hospital_code  Hospital_type_code  City_Code_Hospital  \\\n",
       "0              8                   2                   3   \n",
       "1              2                   2                   5   \n",
       "2             10                   4                   1   \n",
       "3             26                   1                   2   \n",
       "4             26                   1                   2   \n",
       "\n",
       "   Available Extra Rooms in Hospital  Ward_Type  Ward_Facility_Code  \\\n",
       "0                                  3          2                   5   \n",
       "1                                  2          3                   5   \n",
       "2                                  2          3                   4   \n",
       "3                                  2          2                   3   \n",
       "4                                  2          3                   3   \n",
       "\n",
       "   call night  Bed Grade  City_Code_Patient  Type of Admission  ...  \\\n",
       "0           1        2.0                7.0                  2  ...   \n",
       "1           0        2.0                7.0                  1  ...   \n",
       "2           0        2.0                7.0                  1  ...   \n",
       "3           1        2.0                7.0                  1  ...   \n",
       "4           0        2.0                7.0                  1  ...   \n",
       "\n",
       "   Department_radiotherapy  Department_surgery  \\\n",
       "0                        1                   0   \n",
       "1                        1                   0   \n",
       "2                        0                   0   \n",
       "3                        1                   0   \n",
       "4                        1                   0   \n",
       "\n",
       "   sum_Admission_Deposit_per_illness  sum_Admission_Deposit_per_admission  \\\n",
       "0                          269303142                            561116896   \n",
       "1                          269303142                            759271759   \n",
       "2                          269303142                            759271759   \n",
       "3                          269303142                            759271759   \n",
       "4                          269303142                            759271759   \n",
       "\n",
       "   sum_Admission_Deposit_per_bed  sum_Admission_Deposit_per_hosp  \\\n",
       "0                      599761755                        18070530   \n",
       "1                      599761755                        25510660   \n",
       "2                      599761755                        42984606   \n",
       "3                      599761755                       161993571   \n",
       "4                      599761755                       161993571   \n",
       "\n",
       "   mean_Admission_Deposit_per_illness  mean_Admission_Deposit_per_admission  \\\n",
       "0                         4747.688627                           4768.320609   \n",
       "1                         4747.688627                           4986.646344   \n",
       "2                         4747.688627                           4986.646344   \n",
       "3                         4747.688627                           4986.646344   \n",
       "4                         4747.688627                           4986.646344   \n",
       "\n",
       "   mean_Admission_Deposit_per_bed  mean_Admission_Deposit_per_hosp  \n",
       "0                     4849.655578                      4933.259623  \n",
       "1                     4849.655578                      5000.129361  \n",
       "2                     4849.655578                      4555.867091  \n",
       "3                     4849.655578                      4897.616731  \n",
       "4                     4849.655578                      4897.616731  \n",
       "\n",
       "[5 rows x 31 columns]"
      ]
     },
     "execution_count": 746,
     "metadata": {},
     "output_type": "execute_result"
    }
   ],
   "source": [
    "# Case_id & patientid will not help in classification\n",
    "df = df.drop(columns=['case_id', 'patientid'])\n",
    "df.head()"
   ]
  },
  {
   "cell_type": "code",
   "execution_count": 747,
   "id": "664fffaa",
   "metadata": {},
   "outputs": [
    {
     "data": {
      "text/plain": [
       "Hospital_code                           0\n",
       "Hospital_region_code_Y                  0\n",
       "mean_Admission_Deposit_per_bed          0\n",
       "mean_Admission_Deposit_per_admission    0\n",
       "mean_Admission_Deposit_per_illness      0\n",
       "dtype: int64"
      ]
     },
     "execution_count": 747,
     "metadata": {},
     "output_type": "execute_result"
    }
   ],
   "source": [
    "# Drop the rows (patients) with missing values in 'City_Code_Patient'\n",
    "# The total number of missing data is relatively small (total of xxx) compared with the dataset size of 318,438 rows.\n",
    "# Thus, there won't be too much harm to the model by dropping these data.\n",
    "# In fact, the model has shown an increase in accuracy by dropping these data.\n",
    "df.isnull().sum().sort_values(ascending=False).head()\n",
    "df.dropna(inplace=True)\n",
    "df.isnull().sum().sort_values(ascending=False).head()"
   ]
  },
  {
   "cell_type": "markdown",
   "id": "974f19d7",
   "metadata": {},
   "source": [
    "# 2. Data exploration"
   ]
  },
  {
   "cell_type": "code",
   "execution_count": 748,
   "id": "eb8e26b8",
   "metadata": {
    "scrolled": false
   },
   "outputs": [
    {
     "data": {
      "text/html": [
       "<div>\n",
       "<style scoped>\n",
       "    .dataframe tbody tr th:only-of-type {\n",
       "        vertical-align: middle;\n",
       "    }\n",
       "\n",
       "    .dataframe tbody tr th {\n",
       "        vertical-align: top;\n",
       "    }\n",
       "\n",
       "    .dataframe thead th {\n",
       "        text-align: right;\n",
       "    }\n",
       "</style>\n",
       "<table border=\"1\" class=\"dataframe\">\n",
       "  <thead>\n",
       "    <tr style=\"text-align: right;\">\n",
       "      <th></th>\n",
       "      <th>Hospital_code</th>\n",
       "      <th>Hospital_type_code</th>\n",
       "      <th>City_Code_Hospital</th>\n",
       "      <th>Available Extra Rooms in Hospital</th>\n",
       "      <th>Ward_Type</th>\n",
       "      <th>Ward_Facility_Code</th>\n",
       "      <th>call night</th>\n",
       "      <th>Bed Grade</th>\n",
       "      <th>City_Code_Patient</th>\n",
       "      <th>Type of Admission</th>\n",
       "      <th>...</th>\n",
       "      <th>Department_radiotherapy</th>\n",
       "      <th>Department_surgery</th>\n",
       "      <th>sum_Admission_Deposit_per_illness</th>\n",
       "      <th>sum_Admission_Deposit_per_admission</th>\n",
       "      <th>sum_Admission_Deposit_per_bed</th>\n",
       "      <th>sum_Admission_Deposit_per_hosp</th>\n",
       "      <th>mean_Admission_Deposit_per_illness</th>\n",
       "      <th>mean_Admission_Deposit_per_admission</th>\n",
       "      <th>mean_Admission_Deposit_per_bed</th>\n",
       "      <th>mean_Admission_Deposit_per_hosp</th>\n",
       "    </tr>\n",
       "  </thead>\n",
       "  <tbody>\n",
       "    <tr>\n",
       "      <th>count</th>\n",
       "      <td>313906.000000</td>\n",
       "      <td>313906.000000</td>\n",
       "      <td>313906.000000</td>\n",
       "      <td>313906.000000</td>\n",
       "      <td>313906.000000</td>\n",
       "      <td>313906.000000</td>\n",
       "      <td>313906.000000</td>\n",
       "      <td>313906.000000</td>\n",
       "      <td>313906.000000</td>\n",
       "      <td>313906.000000</td>\n",
       "      <td>...</td>\n",
       "      <td>313906.000000</td>\n",
       "      <td>313906.000000</td>\n",
       "      <td>3.139060e+05</td>\n",
       "      <td>3.139060e+05</td>\n",
       "      <td>3.139060e+05</td>\n",
       "      <td>3.139060e+05</td>\n",
       "      <td>313906.000000</td>\n",
       "      <td>313906.000000</td>\n",
       "      <td>313906.000000</td>\n",
       "      <td>313906.000000</td>\n",
       "    </tr>\n",
       "    <tr>\n",
       "      <th>mean</th>\n",
       "      <td>18.322033</td>\n",
       "      <td>1.257329</td>\n",
       "      <td>4.778593</td>\n",
       "      <td>3.196540</td>\n",
       "      <td>1.889445</td>\n",
       "      <td>3.283993</td>\n",
       "      <td>0.501207</td>\n",
       "      <td>2.622953</td>\n",
       "      <td>7.251859</td>\n",
       "      <td>1.673992</td>\n",
       "      <td>...</td>\n",
       "      <td>0.089718</td>\n",
       "      <td>0.003641</td>\n",
       "      <td>6.367219e+08</td>\n",
       "      <td>6.059803e+08</td>\n",
       "      <td>4.844994e+08</td>\n",
       "      <td>7.531143e+07</td>\n",
       "      <td>4880.572806</td>\n",
       "      <td>4880.929639</td>\n",
       "      <td>4880.527719</td>\n",
       "      <td>4880.662215</td>\n",
       "    </tr>\n",
       "    <tr>\n",
       "      <th>std</th>\n",
       "      <td>8.635184</td>\n",
       "      <td>1.535247</td>\n",
       "      <td>3.102765</td>\n",
       "      <td>1.167886</td>\n",
       "      <td>0.804582</td>\n",
       "      <td>1.688923</td>\n",
       "      <td>0.499999</td>\n",
       "      <td>0.872461</td>\n",
       "      <td>4.745266</td>\n",
       "      <td>0.724849</td>\n",
       "      <td>...</td>\n",
       "      <td>0.285778</td>\n",
       "      <td>0.060233</td>\n",
       "      <td>2.503590e+08</td>\n",
       "      <td>1.821025e+08</td>\n",
       "      <td>1.568234e+08</td>\n",
       "      <td>4.213642e+07</td>\n",
       "      <td>77.172433</td>\n",
       "      <td>102.808256</td>\n",
       "      <td>90.449038</td>\n",
       "      <td>217.426715</td>\n",
       "    </tr>\n",
       "    <tr>\n",
       "      <th>min</th>\n",
       "      <td>1.000000</td>\n",
       "      <td>0.000000</td>\n",
       "      <td>1.000000</td>\n",
       "      <td>0.000000</td>\n",
       "      <td>0.000000</td>\n",
       "      <td>0.000000</td>\n",
       "      <td>0.000000</td>\n",
       "      <td>1.000000</td>\n",
       "      <td>1.000000</td>\n",
       "      <td>1.000000</td>\n",
       "      <td>...</td>\n",
       "      <td>0.000000</td>\n",
       "      <td>0.000000</td>\n",
       "      <td>2.693031e+08</td>\n",
       "      <td>2.338274e+08</td>\n",
       "      <td>5.170460e+05</td>\n",
       "      <td>6.815424e+06</td>\n",
       "      <td>4747.688627</td>\n",
       "      <td>4768.320609</td>\n",
       "      <td>4575.628319</td>\n",
       "      <td>4492.418728</td>\n",
       "    </tr>\n",
       "    <tr>\n",
       "      <th>25%</th>\n",
       "      <td>11.000000</td>\n",
       "      <td>0.000000</td>\n",
       "      <td>2.000000</td>\n",
       "      <td>2.000000</td>\n",
       "      <td>1.000000</td>\n",
       "      <td>2.000000</td>\n",
       "      <td>0.000000</td>\n",
       "      <td>2.000000</td>\n",
       "      <td>4.000000</td>\n",
       "      <td>1.000000</td>\n",
       "      <td>...</td>\n",
       "      <td>0.000000</td>\n",
       "      <td>0.000000</td>\n",
       "      <td>4.278350e+08</td>\n",
       "      <td>5.611169e+08</td>\n",
       "      <td>2.857645e+08</td>\n",
       "      <td>4.298461e+07</td>\n",
       "      <td>4874.108733</td>\n",
       "      <td>4768.320609</td>\n",
       "      <td>4849.655578</td>\n",
       "      <td>4775.271324</td>\n",
       "    </tr>\n",
       "    <tr>\n",
       "      <th>50%</th>\n",
       "      <td>19.000000</td>\n",
       "      <td>1.000000</td>\n",
       "      <td>5.000000</td>\n",
       "      <td>3.000000</td>\n",
       "      <td>2.000000</td>\n",
       "      <td>4.000000</td>\n",
       "      <td>1.000000</td>\n",
       "      <td>3.000000</td>\n",
       "      <td>8.000000</td>\n",
       "      <td>2.000000</td>\n",
       "      <td>...</td>\n",
       "      <td>0.000000</td>\n",
       "      <td>0.000000</td>\n",
       "      <td>8.570779e+08</td>\n",
       "      <td>5.611169e+08</td>\n",
       "      <td>5.456315e+08</td>\n",
       "      <td>7.238972e+07</td>\n",
       "      <td>4874.108733</td>\n",
       "      <td>4821.084514</td>\n",
       "      <td>4934.135292</td>\n",
       "      <td>4897.616731</td>\n",
       "    </tr>\n",
       "    <tr>\n",
       "      <th>75%</th>\n",
       "      <td>26.000000</td>\n",
       "      <td>2.000000</td>\n",
       "      <td>7.000000</td>\n",
       "      <td>4.000000</td>\n",
       "      <td>2.000000</td>\n",
       "      <td>5.000000</td>\n",
       "      <td>1.000000</td>\n",
       "      <td>3.000000</td>\n",
       "      <td>8.000000</td>\n",
       "      <td>2.000000</td>\n",
       "      <td>...</td>\n",
       "      <td>0.000000</td>\n",
       "      <td>0.000000</td>\n",
       "      <td>8.570779e+08</td>\n",
       "      <td>7.592718e+08</td>\n",
       "      <td>5.997618e+08</td>\n",
       "      <td>9.532463e+07</td>\n",
       "      <td>4982.241371</td>\n",
       "      <td>4986.646344</td>\n",
       "      <td>4934.135292</td>\n",
       "      <td>5043.785014</td>\n",
       "    </tr>\n",
       "    <tr>\n",
       "      <th>max</th>\n",
       "      <td>32.000000</td>\n",
       "      <td>6.000000</td>\n",
       "      <td>13.000000</td>\n",
       "      <td>24.000000</td>\n",
       "      <td>5.000000</td>\n",
       "      <td>5.000000</td>\n",
       "      <td>1.000000</td>\n",
       "      <td>4.000000</td>\n",
       "      <td>38.000000</td>\n",
       "      <td>3.000000</td>\n",
       "      <td>...</td>\n",
       "      <td>1.000000</td>\n",
       "      <td>1.000000</td>\n",
       "      <td>8.570779e+08</td>\n",
       "      <td>7.592718e+08</td>\n",
       "      <td>5.997618e+08</td>\n",
       "      <td>1.619936e+08</td>\n",
       "      <td>4982.241371</td>\n",
       "      <td>4986.646344</td>\n",
       "      <td>4964.119237</td>\n",
       "      <td>5608.380551</td>\n",
       "    </tr>\n",
       "  </tbody>\n",
       "</table>\n",
       "<p>8 rows × 31 columns</p>\n",
       "</div>"
      ],
      "text/plain": [
       "       Hospital_code  Hospital_type_code  City_Code_Hospital  \\\n",
       "count  313906.000000       313906.000000       313906.000000   \n",
       "mean       18.322033            1.257329            4.778593   \n",
       "std         8.635184            1.535247            3.102765   \n",
       "min         1.000000            0.000000            1.000000   \n",
       "25%        11.000000            0.000000            2.000000   \n",
       "50%        19.000000            1.000000            5.000000   \n",
       "75%        26.000000            2.000000            7.000000   \n",
       "max        32.000000            6.000000           13.000000   \n",
       "\n",
       "       Available Extra Rooms in Hospital      Ward_Type  Ward_Facility_Code  \\\n",
       "count                      313906.000000  313906.000000       313906.000000   \n",
       "mean                            3.196540       1.889445            3.283993   \n",
       "std                             1.167886       0.804582            1.688923   \n",
       "min                             0.000000       0.000000            0.000000   \n",
       "25%                             2.000000       1.000000            2.000000   \n",
       "50%                             3.000000       2.000000            4.000000   \n",
       "75%                             4.000000       2.000000            5.000000   \n",
       "max                            24.000000       5.000000            5.000000   \n",
       "\n",
       "          call night      Bed Grade  City_Code_Patient  Type of Admission  \\\n",
       "count  313906.000000  313906.000000      313906.000000      313906.000000   \n",
       "mean        0.501207       2.622953           7.251859           1.673992   \n",
       "std         0.499999       0.872461           4.745266           0.724849   \n",
       "min         0.000000       1.000000           1.000000           1.000000   \n",
       "25%         0.000000       2.000000           4.000000           1.000000   \n",
       "50%         1.000000       3.000000           8.000000           2.000000   \n",
       "75%         1.000000       3.000000           8.000000           2.000000   \n",
       "max         1.000000       4.000000          38.000000           3.000000   \n",
       "\n",
       "       ...  Department_radiotherapy  Department_surgery  \\\n",
       "count  ...            313906.000000       313906.000000   \n",
       "mean   ...                 0.089718            0.003641   \n",
       "std    ...                 0.285778            0.060233   \n",
       "min    ...                 0.000000            0.000000   \n",
       "25%    ...                 0.000000            0.000000   \n",
       "50%    ...                 0.000000            0.000000   \n",
       "75%    ...                 0.000000            0.000000   \n",
       "max    ...                 1.000000            1.000000   \n",
       "\n",
       "       sum_Admission_Deposit_per_illness  sum_Admission_Deposit_per_admission  \\\n",
       "count                       3.139060e+05                         3.139060e+05   \n",
       "mean                        6.367219e+08                         6.059803e+08   \n",
       "std                         2.503590e+08                         1.821025e+08   \n",
       "min                         2.693031e+08                         2.338274e+08   \n",
       "25%                         4.278350e+08                         5.611169e+08   \n",
       "50%                         8.570779e+08                         5.611169e+08   \n",
       "75%                         8.570779e+08                         7.592718e+08   \n",
       "max                         8.570779e+08                         7.592718e+08   \n",
       "\n",
       "       sum_Admission_Deposit_per_bed  sum_Admission_Deposit_per_hosp  \\\n",
       "count                   3.139060e+05                    3.139060e+05   \n",
       "mean                    4.844994e+08                    7.531143e+07   \n",
       "std                     1.568234e+08                    4.213642e+07   \n",
       "min                     5.170460e+05                    6.815424e+06   \n",
       "25%                     2.857645e+08                    4.298461e+07   \n",
       "50%                     5.456315e+08                    7.238972e+07   \n",
       "75%                     5.997618e+08                    9.532463e+07   \n",
       "max                     5.997618e+08                    1.619936e+08   \n",
       "\n",
       "       mean_Admission_Deposit_per_illness  \\\n",
       "count                       313906.000000   \n",
       "mean                          4880.572806   \n",
       "std                             77.172433   \n",
       "min                           4747.688627   \n",
       "25%                           4874.108733   \n",
       "50%                           4874.108733   \n",
       "75%                           4982.241371   \n",
       "max                           4982.241371   \n",
       "\n",
       "       mean_Admission_Deposit_per_admission  mean_Admission_Deposit_per_bed  \\\n",
       "count                         313906.000000                   313906.000000   \n",
       "mean                            4880.929639                     4880.527719   \n",
       "std                              102.808256                       90.449038   \n",
       "min                             4768.320609                     4575.628319   \n",
       "25%                             4768.320609                     4849.655578   \n",
       "50%                             4821.084514                     4934.135292   \n",
       "75%                             4986.646344                     4934.135292   \n",
       "max                             4986.646344                     4964.119237   \n",
       "\n",
       "       mean_Admission_Deposit_per_hosp  \n",
       "count                    313906.000000  \n",
       "mean                       4880.662215  \n",
       "std                         217.426715  \n",
       "min                        4492.418728  \n",
       "25%                        4775.271324  \n",
       "50%                        4897.616731  \n",
       "75%                        5043.785014  \n",
       "max                        5608.380551  \n",
       "\n",
       "[8 rows x 31 columns]"
      ]
     },
     "execution_count": 748,
     "metadata": {},
     "output_type": "execute_result"
    }
   ],
   "source": [
    "# Read the statistics of pre-processed data\n",
    "df.describe()"
   ]
  },
  {
   "cell_type": "code",
   "execution_count": 749,
   "id": "2b8b92cf",
   "metadata": {},
   "outputs": [
    {
     "data": {
      "text/plain": [
       "<AxesSubplot:>"
      ]
     },
     "execution_count": 749,
     "metadata": {},
     "output_type": "execute_result"
    },
    {
     "data": {
      "image/png": "[encoded data removed]",
      "text/plain": [
       "<Figure size 432x288 with 1 Axes>"
      ]
     },
     "metadata": {
      "needs_background": "light"
     },
     "output_type": "display_data"
    }
   ],
   "source": [
    "### Inspect the distribution of target feature\n",
    "df.Stay.value_counts().plot(kind=\"bar\", color = ['Salmon'])\n",
    "# Insight: Most of the patients stay in hospital for 21-30 days, followed by 11-20, 31-40\n",
    "# We can see that the distribution of the labels is significantly skewed to the right. \n",
    "# In other words, the data is not balanced. There are very few data samples in the categories from ‘41–50’ to ‘61–70’.\n",
    "# This will have significant negative impact on prediction power."
   ]
  },
  {
   "cell_type": "code",
   "execution_count": null,
   "id": "e13a9836",
   "metadata": {},
   "outputs": [],
   "source": [
    "### Calculate correlation to determine multicollinearity\n",
    "import seaborn as sns\n",
    "figure = sns.heatmap(df.corr())\n",
    "\n",
    "# Correlation matrix\n",
    "df_corr = df.corr()\n",
    "\n",
    "# Save correlation matrix for inspection\n",
    "df_corr.to_csv('Datasets/preprocessed_v12_corr.csv', index=False)"
   ]
  },
  {
   "cell_type": "code",
   "execution_count": 750,
   "id": "d0284893",
   "metadata": {},
   "outputs": [],
   "source": [
    "# Delete features with high correlation\n",
    "# Observation:\n",
    "# 0.98: 'Type of Admission' & 'sum_Admission_Deposit_per_admission'\n",
    "# 0.80: 'Type of Admission' & 'mean_Admission_Deposit_per_admission'\n",
    "#df = df.drop(columns=['Severity of Illness', 'Bed Grade', 'Type of Admission'] )\n",
    "df = df.drop(columns=['Severity of Illness','Type of Admission'] )"
   ]
  },
  {
   "cell_type": "markdown",
   "id": "32168292",
   "metadata": {},
   "source": [
    "# 3. Data Normalization"
   ]
  },
  {
   "cell_type": "code",
   "execution_count": 751,
   "id": "8055b8c0",
   "metadata": {},
   "outputs": [],
   "source": [
    "# Assign X (features) and y (labels)\n",
    "X = df.drop(['Stay'], axis = 1)\n",
    "y = df['Stay']"
   ]
  },
  {
   "cell_type": "code",
   "execution_count": 752,
   "id": "9e74c899",
   "metadata": {},
   "outputs": [
    {
     "data": {
      "text/plain": [
       "(313906, 28)"
      ]
     },
     "execution_count": 752,
     "metadata": {},
     "output_type": "execute_result"
    }
   ],
   "source": [
    "X.shape"
   ]
  },
  {
   "cell_type": "code",
   "execution_count": 369,
   "id": "8f235441",
   "metadata": {},
   "outputs": [],
   "source": [
    "# from sklearn.preprocessing import StandardScaler\n",
    "# from sklearn.decomposition import PCA\n",
    "# from sklearn.pipeline import Pipeline\n",
    "\n",
    "# pipeline = Pipeline([('scaling', StandardScaler()), ('pca', PCA(n_components=10))])\n",
    "\n",
    "# X = pipeline.fit_transform(X)"
   ]
  },
  {
   "cell_type": "code",
   "execution_count": 753,
   "id": "f219ee94",
   "metadata": {},
   "outputs": [],
   "source": [
    "from sklearn.preprocessing import StandardScaler\n",
    "for value in X.columns:\n",
    "    sc = StandardScaler()\n",
    "    X[value] = sc.fit_transform(X[[value]])"
   ]
  },
  {
   "cell_type": "code",
   "execution_count": 481,
   "id": "e3dcee5f",
   "metadata": {},
   "outputs": [],
   "source": [
    "# save preprocessed data\n",
    "df.to_csv('Datasets/preprocessed_v9.csv', index=False)"
   ]
  },
  {
   "cell_type": "markdown",
   "id": "2c1ad54f",
   "metadata": {},
   "source": [
    "# 4. Model Building"
   ]
  },
  {
   "cell_type": "code",
   "execution_count": 754,
   "id": "62d3181f",
   "metadata": {},
   "outputs": [],
   "source": [
    "from sklearn.model_selection import train_test_split\n",
    "X_train, X_test, y_train, y_test = train_test_split(X, y, test_size=0.2, random_state=0)"
   ]
  },
  {
   "cell_type": "code",
   "execution_count": 519,
   "id": "f829fbe8",
   "metadata": {},
   "outputs": [
    {
     "data": {
      "text/plain": [
       "(254750, 30)"
      ]
     },
     "execution_count": 519,
     "metadata": {},
     "output_type": "execute_result"
    }
   ],
   "source": [
    "X_train.shape"
   ]
  },
  {
   "cell_type": "code",
   "execution_count": 155,
   "id": "ad875bc7",
   "metadata": {},
   "outputs": [
    {
     "data": {
      "text/plain": [
       "305797    3\n",
       "139943    1\n",
       "182403    2\n",
       "12118     1\n",
       "66747     2\n",
       "         ..\n",
       "122579    3\n",
       "304137    3\n",
       "152315    2\n",
       "117952    3\n",
       "305711    7\n",
       "Name: Stay, Length: 254750, dtype: int64"
      ]
     },
     "execution_count": 155,
     "metadata": {},
     "output_type": "execute_result"
    }
   ],
   "source": [
    "y_train"
   ]
  },
  {
   "cell_type": "code",
   "execution_count": 755,
   "id": "6bfe7548",
   "metadata": {},
   "outputs": [
    {
     "name": "stderr",
     "output_type": "stream",
     "text": [
      "C:\\Users\\jenni\\anaconda3\\envs\\BMEG3103_pract\\lib\\site-packages\\xgboost\\sklearn.py:1224: UserWarning: The use of label encoder in XGBClassifier is deprecated and will be removed in a future release. To remove this warning, do the following: 1) Pass option use_label_encoder=False when constructing XGBClassifier object; and 2) Encode your labels (y) as integers starting with 0, i.e. 0, 1, 2, ..., [num_class - 1].\n",
      "  warnings.warn(label_encoder_deprecation_msg, UserWarning)\n"
     ]
    },
    {
     "name": "stdout",
     "output_type": "stream",
     "text": [
      "[00:08:08] WARNING: ..\\src\\learner.cc:1115: Starting in XGBoost 1.3.0, the default evaluation metric used with the objective 'multi:softprob' was changed from 'merror' to 'mlogloss'. Explicitly set eval_metric if you'd like to restore the old behavior.\n"
     ]
    },
    {
     "data": {
      "text/plain": [
       "XGBClassifier(base_score=0.5, booster='gbtree', colsample_bylevel=1,\n",
       "              colsample_bynode=1, colsample_bytree=1, enable_categorical=False,\n",
       "              gamma=0, gpu_id=-1, importance_type=None,\n",
       "              interaction_constraints='', learning_rate=0.300000012,\n",
       "              max_delta_step=0, max_depth=6, min_child_weight=1, missing=nan,\n",
       "              monotone_constraints='()', n_estimators=100, n_jobs=8,\n",
       "              num_class=11, num_parallel_tree=1, objective='multi:softprob',\n",
       "              predictor='auto', random_state=0, reg_alpha=0, reg_lambda=1,\n",
       "              scale_pos_weight=None, subsample=1, tree_method='exact',\n",
       "              validate_parameters=1, verbosity=None)"
      ]
     },
     "execution_count": 755,
     "metadata": {},
     "output_type": "execute_result"
    }
   ],
   "source": [
    "import xgboost as xgb\n",
    "xgb_model = xgb.XGBClassifier(random_state=0, objective='multi:softmax', num_class=11)\n",
    "# xgb_model = xgb.XGBClassifier(n_estimators=100,\n",
    "#                             max_depth=6,\n",
    "#                             learning_rate=0.1,\n",
    "#                             subsample=0.8,\n",
    "#                             colsample_bytree=0.5,\n",
    "                        \n",
    "#                            ) \n",
    "xgb_model.fit(X_train, y_train)"
   ]
  },
  {
   "cell_type": "code",
   "execution_count": 786,
   "id": "2a0e018a",
   "metadata": {},
   "outputs": [],
   "source": [
    "# Save the model\n",
    "xgb_model.save_model(\"Model/model_v16_bestfornow.json\")"
   ]
  },
  {
   "cell_type": "markdown",
   "id": "cc80e0ce",
   "metadata": {},
   "source": [
    "# Model Evaluation"
   ]
  },
  {
   "cell_type": "code",
   "execution_count": 714,
   "id": "03583070",
   "metadata": {},
   "outputs": [
    {
     "data": {
      "text/plain": [
       "array([1, 5, 2, ..., 1, 2, 2], dtype=int64)"
      ]
     },
     "execution_count": 714,
     "metadata": {},
     "output_type": "execute_result"
    }
   ],
   "source": [
    "Yp = xgb_model.predict(X_test)\n",
    "Yp"
   ]
  },
  {
   "cell_type": "code",
   "execution_count": 785,
   "id": "4a4579c3",
   "metadata": {
    "scrolled": false
   },
   "outputs": [
    {
     "name": "stdout",
     "output_type": "stream",
     "text": [
      "[[  781  2166  1574    40     6    15     1     1     0     0     1]\n",
      " [  474  7823  6276   665     8   489     0     2     5     1     7]\n",
      " [  346  4797 11332   248     4   248     0     4    35     1    19]\n",
      " [  163  1822  4441  2507    12  1744     1    26    21     4    30]\n",
      " [   97   413  1444   160     4   158     1     6     4     4    20]\n",
      " [   87   474   998  1561     3  3565     2    37   165     0    93]\n",
      " [   12    84   310    54     0    92     0     5     9     2    14]\n",
      " [   23   114   215   353     3  1051     1    73    30     5   124]\n",
      " [    9    23    51    92     3   447     0    15   204     0   118]\n",
      " [    8    25    49    64     1   277     0    11    10    12    57]\n",
      " [   15    46    68    98     3   370     0    48   110    13   525]]\n"
     ]
    }
   ],
   "source": [
    "from sklearn.metrics import confusion_matrix\n",
    "cm = confusion_matrix(y_test, Yp)\n",
    "print(cm)"
   ]
  },
  {
   "cell_type": "code",
   "execution_count": 784,
   "id": "c2338b95",
   "metadata": {},
   "outputs": [
    {
     "name": "stdout",
     "output_type": "stream",
     "text": [
      "42.72880762001848\n",
      "33.24980987173706\n"
     ]
    }
   ],
   "source": [
    "from sklearn.metrics import accuracy_score, f1_score, precision_score\n",
    "print(accuracy_score(y_test, Yp) * 100)\n",
    "print(precision_score(y_test, Yp, average='macro') * 100)"
   ]
  },
  {
   "cell_type": "code",
   "execution_count": 782,
   "id": "887fde36",
   "metadata": {},
   "outputs": [
    {
     "name": "stdout",
     "output_type": "stream",
     "text": [
      "              precision    recall  f1-score   support\n",
      "\n",
      "           0       0.39      0.17      0.24      4585\n",
      "           1       0.44      0.50      0.47     15750\n",
      "           2       0.42      0.67      0.52     17034\n",
      "           3       0.43      0.23      0.30     10771\n",
      "           4       0.09      0.00      0.00      2311\n",
      "           5       0.42      0.51      0.46      6985\n",
      "           6       0.00      0.00      0.00       582\n",
      "           7       0.32      0.04      0.07      1992\n",
      "           8       0.34      0.21      0.26       962\n",
      "           9       0.29      0.02      0.04       514\n",
      "          10       0.52      0.41      0.46      1296\n",
      "\n",
      "    accuracy                           0.43     62782\n",
      "   macro avg       0.33      0.25      0.26     62782\n",
      "weighted avg       0.41      0.43      0.39     62782\n",
      "\n"
     ]
    }
   ],
   "source": [
    "# https://towardsdatascience.com/comprehensive-guide-to-multiclass-classification-with-sklearn-127cc500f362\n",
    "from sklearn.metrics import classification_report\n",
    "print(classification_report(y_test, Yp))"
   ]
  },
  {
   "cell_type": "code",
   "execution_count": null,
   "id": "7dd4e6c1",
   "metadata": {},
   "outputs": [],
   "source": []
  },
  {
   "cell_type": "code",
   "execution_count": 781,
   "id": "00cc2414",
   "metadata": {},
   "outputs": [
    {
     "data": {
      "image/png": "[encoded data removed]",
      "text/plain": [
       "<Figure size 432x288 with 1 Axes>"
      ]
     },
     "metadata": {
      "needs_background": "light"
     },
     "output_type": "display_data"
    }
   ],
   "source": [
    "import matplotlib.pyplot as plt\n",
    "%matplotlib inline\n",
    "\n",
    "from xgboost import plot_importance\n",
    "xgb_model.feature_importances_\n",
    "plot_importance(xgb_model)\n",
    "plt.show()"
   ]
  },
  {
   "cell_type": "markdown",
   "id": "988a83c8",
   "metadata": {},
   "source": [
    "# Test Dataset Prediction & Submission"
   ]
  },
  {
   "cell_type": "code",
   "execution_count": 772,
   "id": "017fef3d",
   "metadata": {},
   "outputs": [
    {
     "data": {
      "text/html": [
       "<div>\n",
       "<style scoped>\n",
       "    .dataframe tbody tr th:only-of-type {\n",
       "        vertical-align: middle;\n",
       "    }\n",
       "\n",
       "    .dataframe tbody tr th {\n",
       "        vertical-align: top;\n",
       "    }\n",
       "\n",
       "    .dataframe thead th {\n",
       "        text-align: right;\n",
       "    }\n",
       "</style>\n",
       "<table border=\"1\" class=\"dataframe\">\n",
       "  <thead>\n",
       "    <tr style=\"text-align: right;\">\n",
       "      <th></th>\n",
       "      <th>Hospital_code</th>\n",
       "      <th>Hospital_type_code</th>\n",
       "      <th>City_Code_Hospital</th>\n",
       "      <th>Available Extra Rooms in Hospital</th>\n",
       "      <th>Ward_Type</th>\n",
       "      <th>Ward_Facility_Code</th>\n",
       "      <th>call night</th>\n",
       "      <th>Bed Grade</th>\n",
       "      <th>City_Code_Patient</th>\n",
       "      <th>Visitors with Patient</th>\n",
       "      <th>...</th>\n",
       "      <th>Department_radiotherapy</th>\n",
       "      <th>Department_surgery</th>\n",
       "      <th>sum_Admission_Deposit_per_illness</th>\n",
       "      <th>sum_Admission_Deposit_per_admission</th>\n",
       "      <th>sum_Admission_Deposit_per_bed</th>\n",
       "      <th>sum_Admission_Deposit_per_hosp</th>\n",
       "      <th>mean_Admission_Deposit_per_illness</th>\n",
       "      <th>mean_Admission_Deposit_per_admission</th>\n",
       "      <th>mean_Admission_Deposit_per_bed</th>\n",
       "      <th>mean_Admission_Deposit_per_hosp</th>\n",
       "    </tr>\n",
       "  </thead>\n",
       "  <tbody>\n",
       "    <tr>\n",
       "      <th>0</th>\n",
       "      <td>0.307627</td>\n",
       "      <td>0.487763</td>\n",
       "      <td>-0.566911</td>\n",
       "      <td>-0.165503</td>\n",
       "      <td>1.383073</td>\n",
       "      <td>-1.940856</td>\n",
       "      <td>-1.000168</td>\n",
       "      <td>-0.729986</td>\n",
       "      <td>-1.094641</td>\n",
       "      <td>-0.722758</td>\n",
       "      <td>...</td>\n",
       "      <td>-0.317027</td>\n",
       "      <td>-0.058283</td>\n",
       "      <td>0.880959</td>\n",
       "      <td>-0.237553</td>\n",
       "      <td>0.700047</td>\n",
       "      <td>-0.771083</td>\n",
       "      <td>-0.102237</td>\n",
       "      <td>-1.091217</td>\n",
       "      <td>-0.264517</td>\n",
       "      <td>0.734349</td>\n",
       "    </tr>\n",
       "    <tr>\n",
       "      <th>1</th>\n",
       "      <td>1.234125</td>\n",
       "      <td>-0.822919</td>\n",
       "      <td>-0.244563</td>\n",
       "      <td>-1.024428</td>\n",
       "      <td>1.383073</td>\n",
       "      <td>1.011415</td>\n",
       "      <td>-1.000168</td>\n",
       "      <td>-0.729986</td>\n",
       "      <td>-1.094641</td>\n",
       "      <td>0.402568</td>\n",
       "      <td>...</td>\n",
       "      <td>-0.317027</td>\n",
       "      <td>-0.058283</td>\n",
       "      <td>0.880959</td>\n",
       "      <td>0.840568</td>\n",
       "      <td>0.700047</td>\n",
       "      <td>-0.404567</td>\n",
       "      <td>-0.102237</td>\n",
       "      <td>1.031729</td>\n",
       "      <td>-0.264517</td>\n",
       "      <td>1.372250</td>\n",
       "    </tr>\n",
       "    <tr>\n",
       "      <th>2</th>\n",
       "      <td>0.886688</td>\n",
       "      <td>-0.167578</td>\n",
       "      <td>-0.889260</td>\n",
       "      <td>-0.165503</td>\n",
       "      <td>-1.102126</td>\n",
       "      <td>-0.169493</td>\n",
       "      <td>0.999832</td>\n",
       "      <td>1.571032</td>\n",
       "      <td>-1.094641</td>\n",
       "      <td>-0.160095</td>\n",
       "      <td>...</td>\n",
       "      <td>-0.317027</td>\n",
       "      <td>-0.058283</td>\n",
       "      <td>0.880959</td>\n",
       "      <td>-0.237553</td>\n",
       "      <td>-1.282764</td>\n",
       "      <td>2.065165</td>\n",
       "      <td>-0.102237</td>\n",
       "      <td>-1.091217</td>\n",
       "      <td>0.782375</td>\n",
       "      <td>0.096284</td>\n",
       "    </tr>\n",
       "    <tr>\n",
       "      <th>3</th>\n",
       "      <td>-1.429558</td>\n",
       "      <td>-0.822919</td>\n",
       "      <td>0.400134</td>\n",
       "      <td>-0.165503</td>\n",
       "      <td>-1.102126</td>\n",
       "      <td>1.011415</td>\n",
       "      <td>0.999832</td>\n",
       "      <td>-0.729986</td>\n",
       "      <td>-1.094641</td>\n",
       "      <td>-0.160095</td>\n",
       "      <td>...</td>\n",
       "      <td>-0.317027</td>\n",
       "      <td>-0.058283</td>\n",
       "      <td>0.880959</td>\n",
       "      <td>0.840568</td>\n",
       "      <td>0.700047</td>\n",
       "      <td>0.417472</td>\n",
       "      <td>-0.102237</td>\n",
       "      <td>1.031729</td>\n",
       "      <td>-0.264517</td>\n",
       "      <td>-1.371062</td>\n",
       "    </tr>\n",
       "    <tr>\n",
       "      <th>4</th>\n",
       "      <td>1.118313</td>\n",
       "      <td>-0.167578</td>\n",
       "      <td>2.011876</td>\n",
       "      <td>-1.024428</td>\n",
       "      <td>0.140473</td>\n",
       "      <td>1.011415</td>\n",
       "      <td>0.999832</td>\n",
       "      <td>-0.729986</td>\n",
       "      <td>-1.094641</td>\n",
       "      <td>0.402568</td>\n",
       "      <td>...</td>\n",
       "      <td>-0.317027</td>\n",
       "      <td>-0.058283</td>\n",
       "      <td>0.880959</td>\n",
       "      <td>0.840568</td>\n",
       "      <td>0.700047</td>\n",
       "      <td>0.163806</td>\n",
       "      <td>-0.102237</td>\n",
       "      <td>1.031729</td>\n",
       "      <td>-0.264517</td>\n",
       "      <td>-0.414427</td>\n",
       "    </tr>\n",
       "  </tbody>\n",
       "</table>\n",
       "<p>5 rows × 28 columns</p>\n",
       "</div>"
      ],
      "text/plain": [
       "   Hospital_code  Hospital_type_code  City_Code_Hospital  \\\n",
       "0       0.307627            0.487763           -0.566911   \n",
       "1       1.234125           -0.822919           -0.244563   \n",
       "2       0.886688           -0.167578           -0.889260   \n",
       "3      -1.429558           -0.822919            0.400134   \n",
       "4       1.118313           -0.167578            2.011876   \n",
       "\n",
       "   Available Extra Rooms in Hospital  Ward_Type  Ward_Facility_Code  \\\n",
       "0                          -0.165503   1.383073           -1.940856   \n",
       "1                          -1.024428   1.383073            1.011415   \n",
       "2                          -0.165503  -1.102126           -0.169493   \n",
       "3                          -0.165503  -1.102126            1.011415   \n",
       "4                          -1.024428   0.140473            1.011415   \n",
       "\n",
       "   call night  Bed Grade  City_Code_Patient  Visitors with Patient  ...  \\\n",
       "0   -1.000168  -0.729986          -1.094641              -0.722758  ...   \n",
       "1   -1.000168  -0.729986          -1.094641               0.402568  ...   \n",
       "2    0.999832   1.571032          -1.094641              -0.160095  ...   \n",
       "3    0.999832  -0.729986          -1.094641              -0.160095  ...   \n",
       "4    0.999832  -0.729986          -1.094641               0.402568  ...   \n",
       "\n",
       "   Department_radiotherapy  Department_surgery  \\\n",
       "0                -0.317027           -0.058283   \n",
       "1                -0.317027           -0.058283   \n",
       "2                -0.317027           -0.058283   \n",
       "3                -0.317027           -0.058283   \n",
       "4                -0.317027           -0.058283   \n",
       "\n",
       "   sum_Admission_Deposit_per_illness  sum_Admission_Deposit_per_admission  \\\n",
       "0                           0.880959                            -0.237553   \n",
       "1                           0.880959                             0.840568   \n",
       "2                           0.880959                            -0.237553   \n",
       "3                           0.880959                             0.840568   \n",
       "4                           0.880959                             0.840568   \n",
       "\n",
       "   sum_Admission_Deposit_per_bed  sum_Admission_Deposit_per_hosp  \\\n",
       "0                       0.700047                       -0.771083   \n",
       "1                       0.700047                       -0.404567   \n",
       "2                      -1.282764                        2.065165   \n",
       "3                       0.700047                        0.417472   \n",
       "4                       0.700047                        0.163806   \n",
       "\n",
       "   mean_Admission_Deposit_per_illness  mean_Admission_Deposit_per_admission  \\\n",
       "0                           -0.102237                             -1.091217   \n",
       "1                           -0.102237                              1.031729   \n",
       "2                           -0.102237                             -1.091217   \n",
       "3                           -0.102237                              1.031729   \n",
       "4                           -0.102237                              1.031729   \n",
       "\n",
       "   mean_Admission_Deposit_per_bed  mean_Admission_Deposit_per_hosp  \n",
       "0                       -0.264517                         0.734349  \n",
       "1                       -0.264517                         1.372250  \n",
       "2                        0.782375                         0.096284  \n",
       "3                       -0.264517                        -1.371062  \n",
       "4                       -0.264517                        -0.414427  \n",
       "\n",
       "[5 rows x 28 columns]"
      ]
     },
     "execution_count": 772,
     "metadata": {},
     "output_type": "execute_result"
    }
   ],
   "source": [
    "test = pd.read_csv('Datasets/preprocessed_test_v16.csv')\n",
    "test.head()\n",
    "# test =test.drop(['Hospital_region_code_X', 'Hospital_region_code_Y', 'Hospital_region_code_Z'], axis=1)"
   ]
  },
  {
   "cell_type": "code",
   "execution_count": 773,
   "id": "23e91d7d",
   "metadata": {},
   "outputs": [
    {
     "data": {
      "text/plain": [
       "array([0, 5, 2, ..., 1, 1, 5], dtype=int64)"
      ]
     },
     "execution_count": 773,
     "metadata": {},
     "output_type": "execute_result"
    }
   ],
   "source": [
    "# Test model on test set\n",
    "test_y = xgb_model.predict(test)\n",
    "test_y"
   ]
  },
  {
   "cell_type": "code",
   "execution_count": 775,
   "id": "bfc02fd1",
   "metadata": {},
   "outputs": [
    {
     "data": {
      "text/html": [
       "<div>\n",
       "<style scoped>\n",
       "    .dataframe tbody tr th:only-of-type {\n",
       "        vertical-align: middle;\n",
       "    }\n",
       "\n",
       "    .dataframe tbody tr th {\n",
       "        vertical-align: top;\n",
       "    }\n",
       "\n",
       "    .dataframe thead th {\n",
       "        text-align: right;\n",
       "    }\n",
       "</style>\n",
       "<table border=\"1\" class=\"dataframe\">\n",
       "  <thead>\n",
       "    <tr style=\"text-align: right;\">\n",
       "      <th></th>\n",
       "      <th>case_id</th>\n",
       "      <th>Stay</th>\n",
       "    </tr>\n",
       "  </thead>\n",
       "  <tbody>\n",
       "    <tr>\n",
       "      <th>0</th>\n",
       "      <td>318439</td>\n",
       "      <td>0-10</td>\n",
       "    </tr>\n",
       "    <tr>\n",
       "      <th>1</th>\n",
       "      <td>318440</td>\n",
       "      <td>51-60</td>\n",
       "    </tr>\n",
       "    <tr>\n",
       "      <th>2</th>\n",
       "      <td>318441</td>\n",
       "      <td>21-30</td>\n",
       "    </tr>\n",
       "    <tr>\n",
       "      <th>3</th>\n",
       "      <td>318442</td>\n",
       "      <td>21-30</td>\n",
       "    </tr>\n",
       "    <tr>\n",
       "      <th>4</th>\n",
       "      <td>318443</td>\n",
       "      <td>51-60</td>\n",
       "    </tr>\n",
       "  </tbody>\n",
       "</table>\n",
       "</div>"
      ],
      "text/plain": [
       "   case_id   Stay\n",
       "0   318439   0-10\n",
       "1   318440  51-60\n",
       "2   318441  21-30\n",
       "3   318442  21-30\n",
       "4   318443  51-60"
      ]
     },
     "execution_count": 775,
     "metadata": {},
     "output_type": "execute_result"
    }
   ],
   "source": [
    "test_y_result = pd.read_csv('Results/test_sub_template.csv')\n",
    "test_y_result.head()"
   ]
  },
  {
   "cell_type": "code",
   "execution_count": 776,
   "id": "7b3270f4",
   "metadata": {},
   "outputs": [
    {
     "data": {
      "text/html": [
       "<div>\n",
       "<style scoped>\n",
       "    .dataframe tbody tr th:only-of-type {\n",
       "        vertical-align: middle;\n",
       "    }\n",
       "\n",
       "    .dataframe tbody tr th {\n",
       "        vertical-align: top;\n",
       "    }\n",
       "\n",
       "    .dataframe thead th {\n",
       "        text-align: right;\n",
       "    }\n",
       "</style>\n",
       "<table border=\"1\" class=\"dataframe\">\n",
       "  <thead>\n",
       "    <tr style=\"text-align: right;\">\n",
       "      <th></th>\n",
       "      <th>case_id</th>\n",
       "      <th>Stay</th>\n",
       "    </tr>\n",
       "  </thead>\n",
       "  <tbody>\n",
       "    <tr>\n",
       "      <th>0</th>\n",
       "      <td>318439</td>\n",
       "      <td>0</td>\n",
       "    </tr>\n",
       "    <tr>\n",
       "      <th>1</th>\n",
       "      <td>318440</td>\n",
       "      <td>5</td>\n",
       "    </tr>\n",
       "    <tr>\n",
       "      <th>2</th>\n",
       "      <td>318441</td>\n",
       "      <td>2</td>\n",
       "    </tr>\n",
       "    <tr>\n",
       "      <th>3</th>\n",
       "      <td>318442</td>\n",
       "      <td>2</td>\n",
       "    </tr>\n",
       "    <tr>\n",
       "      <th>4</th>\n",
       "      <td>318443</td>\n",
       "      <td>5</td>\n",
       "    </tr>\n",
       "    <tr>\n",
       "      <th>...</th>\n",
       "      <td>...</td>\n",
       "      <td>...</td>\n",
       "    </tr>\n",
       "    <tr>\n",
       "      <th>137052</th>\n",
       "      <td>455491</td>\n",
       "      <td>2</td>\n",
       "    </tr>\n",
       "    <tr>\n",
       "      <th>137053</th>\n",
       "      <td>455492</td>\n",
       "      <td>0</td>\n",
       "    </tr>\n",
       "    <tr>\n",
       "      <th>137054</th>\n",
       "      <td>455493</td>\n",
       "      <td>1</td>\n",
       "    </tr>\n",
       "    <tr>\n",
       "      <th>137055</th>\n",
       "      <td>455494</td>\n",
       "      <td>1</td>\n",
       "    </tr>\n",
       "    <tr>\n",
       "      <th>137056</th>\n",
       "      <td>455495</td>\n",
       "      <td>5</td>\n",
       "    </tr>\n",
       "  </tbody>\n",
       "</table>\n",
       "<p>137057 rows × 2 columns</p>\n",
       "</div>"
      ],
      "text/plain": [
       "        case_id  Stay\n",
       "0        318439     0\n",
       "1        318440     5\n",
       "2        318441     2\n",
       "3        318442     2\n",
       "4        318443     5\n",
       "...         ...   ...\n",
       "137052   455491     2\n",
       "137053   455492     0\n",
       "137054   455493     1\n",
       "137055   455494     1\n",
       "137056   455495     5\n",
       "\n",
       "[137057 rows x 2 columns]"
      ]
     },
     "execution_count": 776,
     "metadata": {},
     "output_type": "execute_result"
    }
   ],
   "source": [
    "# test_y_df.drop(columns=['result'], inplace=True)\n",
    "test_y_result['Stay'] = test_y\n",
    "test_y_result"
   ]
  },
  {
   "cell_type": "code",
   "execution_count": 777,
   "id": "a8d6f6aa",
   "metadata": {},
   "outputs": [
    {
     "name": "stdout",
     "output_type": "stream",
     "text": [
      "{0: '0-10', 1: '11-20', 2: '21-30', 3: '31-40', 4: '41-50', 5: '51-60', 6: '61-70', 7: '71-80', 8: '81-90', 9: '91-100', 10: 'More than 100 Days'}\n"
     ]
    }
   ],
   "source": [
    "# Map 0-10 Stay results to original 0-10, 11-20 etc\n",
    "dict_col = {'0-10':[0], '11-20':[1], '21-30':[2], '31-40':[3], '41-50':[4], '51-60':[5], '61-70':[6], '71-80':[7], '81-90':[8], '91-100':[9], 'More than 100 Days':[10]}\n",
    "d = {k: oldk for oldk, oldv in dict_col.items() for k in oldv}\n",
    "print(d)\n",
    "\n",
    "# test_y_df = pd.DataFrame((\"Light_Red\", 'Light_Blue'), columns=[\"Colors\"])\n",
    "# df[\"Colors\"].map(dict_col)"
   ]
  },
  {
   "cell_type": "code",
   "execution_count": 778,
   "id": "ac66924b",
   "metadata": {},
   "outputs": [
    {
     "data": {
      "text/html": [
       "<div>\n",
       "<style scoped>\n",
       "    .dataframe tbody tr th:only-of-type {\n",
       "        vertical-align: middle;\n",
       "    }\n",
       "\n",
       "    .dataframe tbody tr th {\n",
       "        vertical-align: top;\n",
       "    }\n",
       "\n",
       "    .dataframe thead th {\n",
       "        text-align: right;\n",
       "    }\n",
       "</style>\n",
       "<table border=\"1\" class=\"dataframe\">\n",
       "  <thead>\n",
       "    <tr style=\"text-align: right;\">\n",
       "      <th></th>\n",
       "      <th>case_id</th>\n",
       "      <th>Stay</th>\n",
       "    </tr>\n",
       "  </thead>\n",
       "  <tbody>\n",
       "    <tr>\n",
       "      <th>0</th>\n",
       "      <td>318439</td>\n",
       "      <td>0-10</td>\n",
       "    </tr>\n",
       "    <tr>\n",
       "      <th>1</th>\n",
       "      <td>318440</td>\n",
       "      <td>51-60</td>\n",
       "    </tr>\n",
       "    <tr>\n",
       "      <th>2</th>\n",
       "      <td>318441</td>\n",
       "      <td>21-30</td>\n",
       "    </tr>\n",
       "    <tr>\n",
       "      <th>3</th>\n",
       "      <td>318442</td>\n",
       "      <td>21-30</td>\n",
       "    </tr>\n",
       "    <tr>\n",
       "      <th>4</th>\n",
       "      <td>318443</td>\n",
       "      <td>51-60</td>\n",
       "    </tr>\n",
       "    <tr>\n",
       "      <th>...</th>\n",
       "      <td>...</td>\n",
       "      <td>...</td>\n",
       "    </tr>\n",
       "    <tr>\n",
       "      <th>137052</th>\n",
       "      <td>455491</td>\n",
       "      <td>21-30</td>\n",
       "    </tr>\n",
       "    <tr>\n",
       "      <th>137053</th>\n",
       "      <td>455492</td>\n",
       "      <td>0-10</td>\n",
       "    </tr>\n",
       "    <tr>\n",
       "      <th>137054</th>\n",
       "      <td>455493</td>\n",
       "      <td>11-20</td>\n",
       "    </tr>\n",
       "    <tr>\n",
       "      <th>137055</th>\n",
       "      <td>455494</td>\n",
       "      <td>11-20</td>\n",
       "    </tr>\n",
       "    <tr>\n",
       "      <th>137056</th>\n",
       "      <td>455495</td>\n",
       "      <td>51-60</td>\n",
       "    </tr>\n",
       "  </tbody>\n",
       "</table>\n",
       "<p>137057 rows × 2 columns</p>\n",
       "</div>"
      ],
      "text/plain": [
       "        case_id   Stay\n",
       "0        318439   0-10\n",
       "1        318440  51-60\n",
       "2        318441  21-30\n",
       "3        318442  21-30\n",
       "4        318443  51-60\n",
       "...         ...    ...\n",
       "137052   455491  21-30\n",
       "137053   455492   0-10\n",
       "137054   455493  11-20\n",
       "137055   455494  11-20\n",
       "137056   455495  51-60\n",
       "\n",
       "[137057 rows x 2 columns]"
      ]
     },
     "execution_count": 778,
     "metadata": {},
     "output_type": "execute_result"
    }
   ],
   "source": [
    "test_y_result['Stay'] = test_y_result['Stay'].map(d)\n",
    "test_y_result"
   ]
  },
  {
   "cell_type": "code",
   "execution_count": 779,
   "id": "22d58c2e",
   "metadata": {},
   "outputs": [
    {
     "data": {
      "text/plain": [
       "Stay\n",
       "0-10                   4322\n",
       "11-20                 39256\n",
       "21-30                 58039\n",
       "31-40                 12972\n",
       "41-50                    97\n",
       "51-60                 18408\n",
       "61-70                    23\n",
       "71-80                   470\n",
       "81-90                  1273\n",
       "91-100                   79\n",
       "More than 100 Days     2118\n",
       "Name: case_id, dtype: int64"
      ]
     },
     "execution_count": 779,
     "metadata": {},
     "output_type": "execute_result"
    }
   ],
   "source": [
    "test_y_result.groupby(['Stay'])['case_id'].count()"
   ]
  },
  {
   "cell_type": "code",
   "execution_count": 780,
   "id": "dacce0a0",
   "metadata": {},
   "outputs": [],
   "source": [
    "# Save submission results\n",
    "test_y_result.to_csv('Results/test_sub_v16.csv',index=False)"
   ]
  },
  {
   "cell_type": "code",
   "execution_count": null,
   "id": "f70c0ad9",
   "metadata": {},
   "outputs": [],
   "source": []
  }
 ],
 "metadata": {
  "kernelspec": {
   "display_name": "BMEG3103_pract",
   "language": "python",
   "name": "bmeg3103_pract"
  },
  "language_info": {
   "codemirror_mode": {
    "name": "ipython",
    "version": 3
   },
   "file_extension": ".py",
   "mimetype": "text/x-python",
   "name": "python",
   "nbconvert_exporter": "python",
   "pygments_lexer": "ipython3",
   "version": "3.9.7"
  }
 },
 "nbformat": 4,
 "nbformat_minor": 5
}
