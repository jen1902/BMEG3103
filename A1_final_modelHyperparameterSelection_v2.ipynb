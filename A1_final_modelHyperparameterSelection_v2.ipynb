{
 "cells": [
  {
   "cell_type": "markdown",
   "id": "e74f4b1a",
   "metadata": {},
   "source": [
    "# Model Hyperparameter Selection\n",
    "1. Read Preprocessed Data\n",
    "2. Model Building\n",
    "3. Hyperparameter Selection\n",
    "4. Model Evaluation\n",
    "6. Test Dataset Prediction & Tabular Classification Results"
   ]
  },
  {
   "cell_type": "markdown",
   "id": "93d80360",
   "metadata": {},
   "source": [
    "# 1. Read Preprocessed Data"
   ]
  },
  {
   "cell_type": "code",
   "execution_count": 1,
   "id": "267ccb1b",
   "metadata": {},
   "outputs": [],
   "source": [
    "# Export the required libraries\n",
    "import pandas as pd \n",
    "import numpy as np\n",
    "from sklearn.impute import SimpleImputer\n",
    "from sklearn.preprocessing import LabelEncoder"
   ]
  },
  {
   "cell_type": "code",
   "execution_count": 2,
   "id": "4b37acf0",
   "metadata": {
    "scrolled": true
   },
   "outputs": [],
   "source": [
    "# Read training data\n",
    "df = pd.read_csv('Datasets/preprocessed_v13_bestfornow179.csv')"
   ]
  },
  {
   "cell_type": "code",
   "execution_count": 3,
   "id": "8055b8c0",
   "metadata": {},
   "outputs": [],
   "source": [
    "# Data Normalization\n",
    "# Assign X (features) and y (labels)\n",
    "X = df.drop(['Stay'], axis = 1)\n",
    "y = df['Stay']"
   ]
  },
  {
   "cell_type": "code",
   "execution_count": 4,
   "id": "3c4eacfe",
   "metadata": {},
   "outputs": [
    {
     "data": {
      "text/plain": [
       "(313906, 28)"
      ]
     },
     "execution_count": 4,
     "metadata": {},
     "output_type": "execute_result"
    }
   ],
   "source": [
    "X.shape"
   ]
  },
  {
   "cell_type": "code",
   "execution_count": 5,
   "id": "e4cc996f",
   "metadata": {},
   "outputs": [],
   "source": [
    "from sklearn.preprocessing import StandardScaler\n",
    "for value in X.columns:\n",
    "    sc = StandardScaler()\n",
    "    X[value] = sc.fit_transform(X[[value]])"
   ]
  },
  {
   "cell_type": "markdown",
   "id": "4edce858",
   "metadata": {},
   "source": [
    "# 2. Model Building"
   ]
  },
  {
   "cell_type": "code",
   "execution_count": 6,
   "id": "62d3181f",
   "metadata": {},
   "outputs": [],
   "source": [
    "from sklearn.model_selection import train_test_split\n",
    "X_train, X_test, y_train, y_test = train_test_split(X, y, test_size=0.2, random_state=0)"
   ]
  },
  {
   "cell_type": "code",
   "execution_count": 7,
   "id": "f829fbe8",
   "metadata": {},
   "outputs": [
    {
     "data": {
      "text/plain": [
       "(251124, 28)"
      ]
     },
     "execution_count": 7,
     "metadata": {},
     "output_type": "execute_result"
    }
   ],
   "source": [
    "X_train.shape"
   ]
  },
  {
   "cell_type": "code",
   "execution_count": 8,
   "id": "ad875bc7",
   "metadata": {},
   "outputs": [
    {
     "data": {
      "text/plain": [
       "95059      3\n",
       "244569     1\n",
       "165058     3\n",
       "49512      0\n",
       "67827      0\n",
       "          ..\n",
       "122579     1\n",
       "304137     5\n",
       "152315    10\n",
       "117952     8\n",
       "305711     5\n",
       "Name: Stay, Length: 251124, dtype: int64"
      ]
     },
     "execution_count": 8,
     "metadata": {},
     "output_type": "execute_result"
    }
   ],
   "source": [
    "y_train"
   ]
  },
  {
   "cell_type": "markdown",
   "id": "d825118e",
   "metadata": {},
   "source": [
    "# 3. Hyperparameter Selection"
   ]
  },
  {
   "cell_type": "markdown",
   "id": "168652db",
   "metadata": {},
   "source": [
    "As the accuracy of the original model is too low (42%), I tried to define more hyperparameters and improve it by the hyperparameter selection method: GridSearchCV."
   ]
  },
  {
   "cell_type": "code",
   "execution_count": 10,
   "id": "f98814d2",
   "metadata": {},
   "outputs": [],
   "source": [
    "from xgboost.sklearn import XGBClassifier\n",
    "# Define the initial model\n",
    "xgb1 = XGBClassifier(learning_rate=0.1,\n",
    "                    n_estimators=1000,\n",
    "                    max_depth=5,\n",
    "                    min_child_weight=1,\n",
    "                    gamma=0,\n",
    "                    subsample=0.8,\n",
    "                    colsample_bytree=0.8,\n",
    "                    objective='multi:softmax',\n",
    "                    nthread=4,\n",
    "                    num_class=11,\n",
    "                    seed=27)"
   ]
  },
  {
   "cell_type": "code",
   "execution_count": 13,
   "id": "d64d91bb",
   "metadata": {},
   "outputs": [
    {
     "name": "stderr",
     "output_type": "stream",
     "text": [
      "C:\\Users\\jenni\\anaconda3\\envs\\BMEG3103_pract\\lib\\site-packages\\xgboost\\sklearn.py:1224: UserWarning: The use of label encoder in XGBClassifier is deprecated and will be removed in a future release. To remove this warning, do the following: 1) Pass option use_label_encoder=False when constructing XGBClassifier object; and 2) Encode your labels (y) as integers starting with 0, i.e. 0, 1, 2, ..., [num_class - 1].\n",
      "  warnings.warn(label_encoder_deprecation_msg, UserWarning)\n"
     ]
    },
    {
     "name": "stdout",
     "output_type": "stream",
     "text": [
      "[15:25:58] WARNING: ..\\src\\learner.cc:1115: Starting in XGBoost 1.3.0, the default evaluation metric used with the objective 'multi:softprob' was changed from 'merror' to 'mlogloss'. Explicitly set eval_metric if you'd like to restore the old behavior.\n"
     ]
    },
    {
     "data": {
      "text/plain": [
       "XGBClassifier(base_score=0.5, booster='gbtree', colsample_bylevel=1,\n",
       "              colsample_bynode=1, colsample_bytree=0.8,\n",
       "              enable_categorical=False, gamma=0, gpu_id=-1,\n",
       "              importance_type=None, interaction_constraints='',\n",
       "              learning_rate=0.1, max_delta_step=0, max_depth=5,\n",
       "              min_child_weight=1, missing=nan, monotone_constraints='()',\n",
       "              n_estimators=1000, n_jobs=4, nthread=4, num_class=11,\n",
       "              num_parallel_tree=1, objective='multi:softprob', predictor='auto',\n",
       "              random_state=27, reg_alpha=0, reg_lambda=1, scale_pos_weight=None,\n",
       "              seed=27, subsample=0.8, tree_method='exact', ...)"
      ]
     },
     "execution_count": 13,
     "metadata": {},
     "output_type": "execute_result"
    }
   ],
   "source": [
    "xgb1.fit(X_train, y_train)"
   ]
  },
  {
   "cell_type": "code",
   "execution_count": 21,
   "id": "211e8294",
   "metadata": {},
   "outputs": [
    {
     "name": "stdout",
     "output_type": "stream",
     "text": [
      "Fitting 5 folds for each of 12 candidates, totalling 60 fits\n"
     ]
    },
    {
     "name": "stderr",
     "output_type": "stream",
     "text": [
      "C:\\Users\\jenni\\anaconda3\\envs\\BMEG3103_pract\\lib\\site-packages\\xgboost\\sklearn.py:1224: UserWarning: The use of label encoder in XGBClassifier is deprecated and will be removed in a future release. To remove this warning, do the following: 1) Pass option use_label_encoder=False when constructing XGBClassifier object; and 2) Encode your labels (y) as integers starting with 0, i.e. 0, 1, 2, ..., [num_class - 1].\n",
      "  warnings.warn(label_encoder_deprecation_msg, UserWarning)\n"
     ]
    },
    {
     "name": "stdout",
     "output_type": "stream",
     "text": [
      "[07:15:34] WARNING: ..\\src\\learner.cc:1115: Starting in XGBoost 1.3.0, the default evaluation metric used with the objective 'multi:softprob' was changed from 'merror' to 'mlogloss'. Explicitly set eval_metric if you'd like to restore the old behavior.\n"
     ]
    },
    {
     "data": {
      "text/plain": [
       "GridSearchCV(cv=5,\n",
       "             estimator=XGBClassifier(base_score=0.5, booster='gbtree',\n",
       "                                     colsample_bylevel=1, colsample_bynode=1,\n",
       "                                     colsample_bytree=0.8,\n",
       "                                     enable_categorical=False, gamma=0,\n",
       "                                     gpu_id=-1, importance_type=None,\n",
       "                                     interaction_constraints='',\n",
       "                                     learning_rate=0.1, max_delta_step=0,\n",
       "                                     max_depth=5, min_child_weight=1,\n",
       "                                     missing=nan, monotone_constraints='()',\n",
       "                                     n_estimators=1000, n_jobs=4, nthread=4,\n",
       "                                     num_class=11, num_parallel_tree=1,\n",
       "                                     objective='multi:softprob',\n",
       "                                     predictor='auto', random_state=27,\n",
       "                                     reg_alpha=0, reg_lambda=1,\n",
       "                                     scale_pos_weight=None, seed=27,\n",
       "                                     subsample=0.8, tree_method='exact', ...),\n",
       "             n_jobs=-1,\n",
       "             param_grid={'max_depth': range(3, 10, 2),\n",
       "                         'min_child_weight': range(1, 6, 2)},\n",
       "             scoring='f1_micro', verbose=10)"
      ]
     },
     "execution_count": 21,
     "metadata": {},
     "output_type": "execute_result"
    }
   ],
   "source": [
    "from sklearn.model_selection import RandomizedSearchCV, GridSearchCV\n",
    "param_test1 = {\n",
    " 'max_depth':range(3,10,2),\n",
    " 'min_child_weight':range(1,6,2)\n",
    "}\n",
    "#metrics to consider: f1_micro, f1_macro, roc_auc_ovr\n",
    "gsearch1 = GridSearchCV(estimator = xgb1, param_grid = param_test1, scoring='f1_micro',n_jobs=-1,verbose = 10, cv=5)\n",
    "gsearch1.fit(X_train, y_train)"
   ]
  },
  {
   "cell_type": "code",
   "execution_count": 23,
   "id": "9c50515e",
   "metadata": {},
   "outputs": [
    {
     "data": {
      "text/plain": [
       "({0: \"mean:0.42319729891816865params{'max_depth': 3, 'min_child_weight': 1}\",\n",
       "  1: \"mean:0.42350392507370865params{'max_depth': 3, 'min_child_weight': 3}\",\n",
       "  2: \"mean:0.4232052652994624params{'max_depth': 3, 'min_child_weight': 5}\",\n",
       "  3: \"mean:0.4253157746972012params{'max_depth': 5, 'min_child_weight': 1}\",\n",
       "  4: \"mean:0.42521622299841855params{'max_depth': 5, 'min_child_weight': 3}\",\n",
       "  5: \"mean:0.42522418684254715params{'max_depth': 5, 'min_child_weight': 5}\",\n",
       "  6: \"mean:0.4191076867222697params{'max_depth': 7, 'min_child_weight': 1}\",\n",
       "  7: \"mean:0.41894840080104645params{'max_depth': 7, 'min_child_weight': 3}\",\n",
       "  8: \"mean:0.4194143047905959params{'max_depth': 7, 'min_child_weight': 5}\",\n",
       "  9: \"mean:0.4091166033511827params{'max_depth': 9, 'min_child_weight': 1}\",\n",
       "  10: \"mean:0.40902899876646204params{'max_depth': 9, 'min_child_weight': 3}\",\n",
       "  11: \"mean:0.40962631435063396params{'max_depth': 9, 'min_child_weight': 5}\"},\n",
       " {'best_mean': 0.4253157746972012,\n",
       "  'best_param': {'max_depth': 5, 'min_child_weight': 1}})"
      ]
     },
     "execution_count": 23,
     "metadata": {},
     "output_type": "execute_result"
    }
   ],
   "source": [
    "def getTrainScores(gs):\n",
    "    results = {}\n",
    "    runs = 0\n",
    "    for x,y in zip(list(gs.cv_results_['mean_test_score']), gs.cv_results_['params']):\n",
    "        results[runs] = 'mean:' + str(x) + 'params' + str(y)\n",
    "        runs += 1\n",
    "    best = {'best_mean': gs.best_score_, \"best_param\":gs.best_params_}\n",
    "    return results, best\n",
    "getTrainScores(gsearch1)"
   ]
  },
  {
   "cell_type": "markdown",
   "id": "4343979b",
   "metadata": {},
   "source": [
    "By GridSearchCV, we found that the best_parameters for max_depth and min_child_weight are: {'max_depth': 5, 'min_child_weight': 1}. Thus, the hyperparameters of xgb2 (updated model after GridSearchCV) is same as xgb1. "
   ]
  },
  {
   "cell_type": "code",
   "execution_count": 26,
   "id": "106610f2",
   "metadata": {},
   "outputs": [
    {
     "name": "stdout",
     "output_type": "stream",
     "text": [
      "Fitting 3 folds for each of 5 candidates, totalling 15 fits\n"
     ]
    },
    {
     "name": "stderr",
     "output_type": "stream",
     "text": [
      "C:\\Users\\jenni\\anaconda3\\envs\\BMEG3103_pract\\lib\\site-packages\\xgboost\\sklearn.py:1224: UserWarning: The use of label encoder in XGBClassifier is deprecated and will be removed in a future release. To remove this warning, do the following: 1) Pass option use_label_encoder=False when constructing XGBClassifier object; and 2) Encode your labels (y) as integers starting with 0, i.e. 0, 1, 2, ..., [num_class - 1].\n",
      "  warnings.warn(label_encoder_deprecation_msg, UserWarning)\n"
     ]
    },
    {
     "name": "stdout",
     "output_type": "stream",
     "text": [
      "[13:26:37] WARNING: ..\\src\\learner.cc:1115: Starting in XGBoost 1.3.0, the default evaluation metric used with the objective 'multi:softprob' was changed from 'merror' to 'mlogloss'. Explicitly set eval_metric if you'd like to restore the old behavior.\n"
     ]
    },
    {
     "data": {
      "text/plain": [
       "GridSearchCV(cv=3,\n",
       "             estimator=XGBClassifier(base_score=0.5, booster='gbtree',\n",
       "                                     colsample_bylevel=1, colsample_bynode=1,\n",
       "                                     colsample_bytree=0.8,\n",
       "                                     enable_categorical=False, gamma=0,\n",
       "                                     gpu_id=-1, importance_type=None,\n",
       "                                     interaction_constraints='',\n",
       "                                     learning_rate=0.1, max_delta_step=0,\n",
       "                                     max_depth=5, min_child_weight=1,\n",
       "                                     missing=nan, monotone_constraints='()',\n",
       "                                     n_estimators=1000, n_jobs=4, nthread=4,\n",
       "                                     num_class=11, num_parallel_tree=1,\n",
       "                                     objective='multi:softprob',\n",
       "                                     predictor='auto', random_state=27,\n",
       "                                     reg_alpha=0, reg_lambda=1,\n",
       "                                     scale_pos_weight=None, seed=27,\n",
       "                                     subsample=0.8, tree_method='exact', ...),\n",
       "             n_jobs=-1, param_grid={'reg_alpha': [1e-05, 0.01, 0.1, 1, 100]},\n",
       "             scoring='f1_micro', verbose=10)"
      ]
     },
     "execution_count": 26,
     "metadata": {},
     "output_type": "execute_result"
    }
   ],
   "source": [
    "param_test2 = {\n",
    " 'reg_alpha':[1e-5, 1e-2, 0.1, 1, 100]\n",
    "}\n",
    "gsearch2 = GridSearchCV(estimator = xgb1, param_grid = param_test2, scoring='f1_micro',n_jobs=-1,verbose = 10, cv=3)\n",
    "gsearch2.fit(X_train, y_train)"
   ]
  },
  {
   "cell_type": "code",
   "execution_count": 28,
   "id": "963630df",
   "metadata": {},
   "outputs": [
    {
     "data": {
      "text/plain": [
       "({0: \"mean:0.4230380210573263params{'reg_alpha': 1e-05}\",\n",
       "  1: \"mean:0.4230101463818672params{'reg_alpha': 0.01}\",\n",
       "  2: \"mean:0.42297828960991385params{'reg_alpha': 0.1}\",\n",
       "  3: \"mean:0.42289864768003055params{'reg_alpha': 1}\",\n",
       "  4: \"mean:0.42127395231041237params{'reg_alpha': 100}\"},\n",
       " {'best_mean': 0.4230380210573263, 'best_param': {'reg_alpha': 1e-05}})"
      ]
     },
     "execution_count": 28,
     "metadata": {},
     "output_type": "execute_result"
    }
   ],
   "source": [
    "getTrainScores(gsearch2)"
   ]
  },
  {
   "cell_type": "markdown",
   "id": "fed73eaa",
   "metadata": {},
   "source": [
    "By the 2nd GridSearchCV, we found that the best_parameters for reg_alpha is 1e-05. Thus, the reg_alpha of xgb3 (updated model after the 2nd GridSearchCV) is updated from 0 to 1e-05."
   ]
  },
  {
   "cell_type": "code",
   "execution_count": 11,
   "id": "f803a70b",
   "metadata": {},
   "outputs": [
    {
     "name": "stderr",
     "output_type": "stream",
     "text": [
      "C:\\Users\\jenni\\anaconda3\\envs\\BMEG3103_pract\\lib\\site-packages\\xgboost\\sklearn.py:1224: UserWarning: The use of label encoder in XGBClassifier is deprecated and will be removed in a future release. To remove this warning, do the following: 1) Pass option use_label_encoder=False when constructing XGBClassifier object; and 2) Encode your labels (y) as integers starting with 0, i.e. 0, 1, 2, ..., [num_class - 1].\n",
      "  warnings.warn(label_encoder_deprecation_msg, UserWarning)\n"
     ]
    },
    {
     "name": "stdout",
     "output_type": "stream",
     "text": [
      "[01:41:12] WARNING: ..\\src\\learner.cc:1115: Starting in XGBoost 1.3.0, the default evaluation metric used with the objective 'multi:softprob' was changed from 'merror' to 'mlogloss'. Explicitly set eval_metric if you'd like to restore the old behavior.\n"
     ]
    },
    {
     "data": {
      "text/plain": [
       "XGBClassifier(base_score=0.5, booster='gbtree', colsample_bylevel=1,\n",
       "              colsample_bynode=1, colsample_bytree=0.8,\n",
       "              enable_categorical=False, gamma=0, gpu_id=-1,\n",
       "              importance_type=None, interaction_constraints='',\n",
       "              learning_rate=0.1, max_delta_step=0, max_depth=5,\n",
       "              min_child_weight=1, missing=nan, monotone_constraints='()',\n",
       "              n_estimators=1000, n_jobs=4, nthread=4, num_class=11,\n",
       "              num_parallel_tree=1, objective='multi:softprob', predictor='auto',\n",
       "              random_state=27, reg_alpha=1e-05, reg_lambda=1,\n",
       "              scale_pos_weight=None, seed=27, subsample=0.8,\n",
       "              tree_method='exact', ...)"
      ]
     },
     "execution_count": 11,
     "metadata": {},
     "output_type": "execute_result"
    }
   ],
   "source": [
    "xgb3 = XGBClassifier(learning_rate=0.1,\n",
    "                    n_estimators=1000,\n",
    "                    max_depth=5,\n",
    "                    min_child_weight=1,\n",
    "                    reg_alpha=1e-05,\n",
    "                    gamma=0,\n",
    "                    subsample=0.8,\n",
    "                    colsample_bytree=0.8,\n",
    "                    objective='multi:softmax',\n",
    "                    nthread=4,\n",
    "                    num_class=11,\n",
    "                    seed=27)\n",
    "xgb3.fit(X_train, y_train)"
   ]
  },
  {
   "cell_type": "markdown",
   "id": "6caac21f",
   "metadata": {},
   "source": [
    "Since running GridSearchCV takes hours, I finialized the model hyperparameter selection here. Our final XGBoost model is xgb3."
   ]
  },
  {
   "cell_type": "code",
   "execution_count": 12,
   "id": "2a0e018a",
   "metadata": {},
   "outputs": [],
   "source": [
    "# Save the model\n",
    "xgb3.save_model(\"Model/model_v16_bestfornow_0330.json\")"
   ]
  },
  {
   "cell_type": "markdown",
   "id": "cc80e0ce",
   "metadata": {},
   "source": [
    "# 4. Model Evaluation"
   ]
  },
  {
   "cell_type": "code",
   "execution_count": 13,
   "id": "03583070",
   "metadata": {},
   "outputs": [
    {
     "data": {
      "text/plain": [
       "array([1, 5, 2, ..., 1, 2, 2], dtype=int64)"
      ]
     },
     "execution_count": 13,
     "metadata": {},
     "output_type": "execute_result"
    }
   ],
   "source": [
    "Yp = xgb3.predict(X_test)\n",
    "Yp"
   ]
  },
  {
   "cell_type": "code",
   "execution_count": 16,
   "id": "4a4579c3",
   "metadata": {
    "scrolled": false
   },
   "outputs": [
    {
     "name": "stdout",
     "output_type": "stream",
     "text": [
      "[[  822  2140  1567    36     2    15     0     0     0     2     1]\n",
      " [  539  7749  6261   710     7   461     1     6     5     0    11]\n",
      " [  370  4636 11405   333    10   234     1     2    23     0    20]\n",
      " [  179  1766  4460  2532    11  1737     2    29    20     6    29]\n",
      " [  102   407  1423   186     7   148     2     7     6     3    20]\n",
      " [   82   473  1016  1588     7  3509     3    46   165     2    94]\n",
      " [   12    74   307    65     2    84     2    13     6     1    16]\n",
      " [   21   116   213   363     3  1028     0    93    26     7   122]\n",
      " [   10    32    51    93     1   438     1    15   204     1   116]\n",
      " [    6    19    53    74     0   272     1    17     8    15    49]\n",
      " [   11    53    61   103     4   360     2    48   112    14   528]]\n"
     ]
    }
   ],
   "source": [
    "from sklearn.metrics import confusion_matrix\n",
    "cm = confusion_matrix(y_test, Yp)\n",
    "print(cm)"
   ]
  },
  {
   "cell_type": "code",
   "execution_count": 17,
   "id": "c2338b95",
   "metadata": {},
   "outputs": [
    {
     "name": "stdout",
     "output_type": "stream",
     "text": [
      "42.792520149087316\n",
      "35.12719017883917\n"
     ]
    }
   ],
   "source": [
    "from sklearn.metrics import accuracy_score, f1_score, precision_score\n",
    "print(accuracy_score(y_test, Yp) * 100)\n",
    "print(precision_score(y_test, Yp, average='macro') * 100)"
   ]
  },
  {
   "cell_type": "code",
   "execution_count": 18,
   "id": "19c8f9a1",
   "metadata": {},
   "outputs": [
    {
     "name": "stdout",
     "output_type": "stream",
     "text": [
      "              precision    recall  f1-score   support\n",
      "\n",
      "           0       0.38      0.18      0.24      4585\n",
      "           1       0.44      0.49      0.47     15750\n",
      "           2       0.43      0.67      0.52     17034\n",
      "           3       0.42      0.24      0.30     10771\n",
      "           4       0.13      0.00      0.01      2311\n",
      "           5       0.42      0.50      0.46      6985\n",
      "           6       0.13      0.00      0.01       582\n",
      "           7       0.34      0.05      0.08      1992\n",
      "           8       0.35      0.21      0.27       962\n",
      "           9       0.29      0.03      0.05       514\n",
      "          10       0.52      0.41      0.46      1296\n",
      "\n",
      "    accuracy                           0.43     62782\n",
      "   macro avg       0.35      0.25      0.26     62782\n",
      "weighted avg       0.41      0.43      0.40     62782\n",
      "\n"
     ]
    }
   ],
   "source": [
    "from sklearn.metrics import classification_report\n",
    "print(classification_report(y_test, Yp))"
   ]
  },
  {
   "cell_type": "markdown",
   "id": "37988d02",
   "metadata": {},
   "source": [
    "Comment on the prediction metrics:\n",
    "The dataset is very imbalanced with distribution of labels significantly skwed to the right (most of the patients stay in hospital for 21-30 days, followed by 11-20, 31-40). This will result in a negative impact on prediction power, resulting in a low accuracy, precision, recal, and F1 score.\n",
    "\n",
    "This is an imbalanced dataset where all classes are equally important. Thus, I choose the the macro average of precision, recall, and f1 score as the final comment metric since it treats all classes equally.\n",
    "\n",
    "* Accuracy: The accuracy is stuck at around 42%-43% after different trials of experiment. \n",
    "* Precision: The precision has improved from 33%-35% (compared with the original model). A low precision indicates there are lots of false positives.\n",
    "* Recall: The recall remains at around 25%. A low recall indicates there are lots of false negatives.\n",
    "* F1: F1-score combines the precision and recall of a classifier into a single metric by taking their harmonic mean. With low precision and low recall, the f1-score is also low too. \n",
    "\n",
    "Conclusion: This dataset is difficult to train since it is a multi-classification task with a significantly skewed dataset. "
   ]
  },
  {
   "cell_type": "code",
   "execution_count": 21,
   "id": "d7920aa2",
   "metadata": {},
   "outputs": [
    {
     "data": {
      "image/png": "[encoded data removed]",
      "text/plain": [
       "<Figure size 432x288 with 1 Axes>"
      ]
     },
     "metadata": {
      "needs_background": "light"
     },
     "output_type": "display_data"
    }
   ],
   "source": [
    "# Show importance of features to understand the model\n",
    "import matplotlib.pyplot as plt\n",
    "%matplotlib inline\n",
    "\n",
    "from xgboost import plot_importance\n",
    "xgb3.feature_importances_\n",
    "plot_importance(xgb3)\n",
    "plt.show()"
   ]
  },
  {
   "cell_type": "markdown",
   "id": "7bd76ac8",
   "metadata": {},
   "source": [
    "Feature importance: The plot indicates that \"Admission Deposit\" is an essential feature in the model."
   ]
  },
  {
   "cell_type": "markdown",
   "id": "988a83c8",
   "metadata": {},
   "source": [
    "# 5. Test Dataset Prediction & Tabular Classification Results"
   ]
  },
  {
   "cell_type": "code",
   "execution_count": 23,
   "id": "017fef3d",
   "metadata": {},
   "outputs": [
    {
     "data": {
      "text/html": [
       "<div>\n",
       "<style scoped>\n",
       "    .dataframe tbody tr th:only-of-type {\n",
       "        vertical-align: middle;\n",
       "    }\n",
       "\n",
       "    .dataframe tbody tr th {\n",
       "        vertical-align: top;\n",
       "    }\n",
       "\n",
       "    .dataframe thead th {\n",
       "        text-align: right;\n",
       "    }\n",
       "</style>\n",
       "<table border=\"1\" class=\"dataframe\">\n",
       "  <thead>\n",
       "    <tr style=\"text-align: right;\">\n",
       "      <th></th>\n",
       "      <th>Hospital_code</th>\n",
       "      <th>Hospital_type_code</th>\n",
       "      <th>City_Code_Hospital</th>\n",
       "      <th>Available Extra Rooms in Hospital</th>\n",
       "      <th>Ward_Type</th>\n",
       "      <th>Ward_Facility_Code</th>\n",
       "      <th>call night</th>\n",
       "      <th>Bed Grade</th>\n",
       "      <th>City_Code_Patient</th>\n",
       "      <th>Visitors with Patient</th>\n",
       "      <th>...</th>\n",
       "      <th>Department_radiotherapy</th>\n",
       "      <th>Department_surgery</th>\n",
       "      <th>sum_Admission_Deposit_per_illness</th>\n",
       "      <th>sum_Admission_Deposit_per_admission</th>\n",
       "      <th>sum_Admission_Deposit_per_bed</th>\n",
       "      <th>sum_Admission_Deposit_per_hosp</th>\n",
       "      <th>mean_Admission_Deposit_per_illness</th>\n",
       "      <th>mean_Admission_Deposit_per_admission</th>\n",
       "      <th>mean_Admission_Deposit_per_bed</th>\n",
       "      <th>mean_Admission_Deposit_per_hosp</th>\n",
       "    </tr>\n",
       "  </thead>\n",
       "  <tbody>\n",
       "    <tr>\n",
       "      <th>0</th>\n",
       "      <td>0.307627</td>\n",
       "      <td>0.487763</td>\n",
       "      <td>-0.566911</td>\n",
       "      <td>-0.165503</td>\n",
       "      <td>1.383073</td>\n",
       "      <td>-1.940856</td>\n",
       "      <td>-1.000168</td>\n",
       "      <td>-0.729986</td>\n",
       "      <td>-1.094641</td>\n",
       "      <td>-0.722758</td>\n",
       "      <td>...</td>\n",
       "      <td>-0.317027</td>\n",
       "      <td>-0.058283</td>\n",
       "      <td>0.880959</td>\n",
       "      <td>-0.237553</td>\n",
       "      <td>0.700047</td>\n",
       "      <td>-0.771083</td>\n",
       "      <td>-0.102237</td>\n",
       "      <td>-1.091217</td>\n",
       "      <td>-0.264517</td>\n",
       "      <td>0.734349</td>\n",
       "    </tr>\n",
       "    <tr>\n",
       "      <th>1</th>\n",
       "      <td>1.234125</td>\n",
       "      <td>-0.822919</td>\n",
       "      <td>-0.244563</td>\n",
       "      <td>-1.024428</td>\n",
       "      <td>1.383073</td>\n",
       "      <td>1.011415</td>\n",
       "      <td>-1.000168</td>\n",
       "      <td>-0.729986</td>\n",
       "      <td>-1.094641</td>\n",
       "      <td>0.402568</td>\n",
       "      <td>...</td>\n",
       "      <td>-0.317027</td>\n",
       "      <td>-0.058283</td>\n",
       "      <td>0.880959</td>\n",
       "      <td>0.840568</td>\n",
       "      <td>0.700047</td>\n",
       "      <td>-0.404567</td>\n",
       "      <td>-0.102237</td>\n",
       "      <td>1.031729</td>\n",
       "      <td>-0.264517</td>\n",
       "      <td>1.372250</td>\n",
       "    </tr>\n",
       "    <tr>\n",
       "      <th>2</th>\n",
       "      <td>0.886688</td>\n",
       "      <td>-0.167578</td>\n",
       "      <td>-0.889260</td>\n",
       "      <td>-0.165503</td>\n",
       "      <td>-1.102126</td>\n",
       "      <td>-0.169493</td>\n",
       "      <td>0.999832</td>\n",
       "      <td>1.571032</td>\n",
       "      <td>-1.094641</td>\n",
       "      <td>-0.160095</td>\n",
       "      <td>...</td>\n",
       "      <td>-0.317027</td>\n",
       "      <td>-0.058283</td>\n",
       "      <td>0.880959</td>\n",
       "      <td>-0.237553</td>\n",
       "      <td>-1.282764</td>\n",
       "      <td>2.065165</td>\n",
       "      <td>-0.102237</td>\n",
       "      <td>-1.091217</td>\n",
       "      <td>0.782375</td>\n",
       "      <td>0.096284</td>\n",
       "    </tr>\n",
       "    <tr>\n",
       "      <th>3</th>\n",
       "      <td>-1.429558</td>\n",
       "      <td>-0.822919</td>\n",
       "      <td>0.400134</td>\n",
       "      <td>-0.165503</td>\n",
       "      <td>-1.102126</td>\n",
       "      <td>1.011415</td>\n",
       "      <td>0.999832</td>\n",
       "      <td>-0.729986</td>\n",
       "      <td>-1.094641</td>\n",
       "      <td>-0.160095</td>\n",
       "      <td>...</td>\n",
       "      <td>-0.317027</td>\n",
       "      <td>-0.058283</td>\n",
       "      <td>0.880959</td>\n",
       "      <td>0.840568</td>\n",
       "      <td>0.700047</td>\n",
       "      <td>0.417472</td>\n",
       "      <td>-0.102237</td>\n",
       "      <td>1.031729</td>\n",
       "      <td>-0.264517</td>\n",
       "      <td>-1.371062</td>\n",
       "    </tr>\n",
       "    <tr>\n",
       "      <th>4</th>\n",
       "      <td>1.118313</td>\n",
       "      <td>-0.167578</td>\n",
       "      <td>2.011876</td>\n",
       "      <td>-1.024428</td>\n",
       "      <td>0.140473</td>\n",
       "      <td>1.011415</td>\n",
       "      <td>0.999832</td>\n",
       "      <td>-0.729986</td>\n",
       "      <td>-1.094641</td>\n",
       "      <td>0.402568</td>\n",
       "      <td>...</td>\n",
       "      <td>-0.317027</td>\n",
       "      <td>-0.058283</td>\n",
       "      <td>0.880959</td>\n",
       "      <td>0.840568</td>\n",
       "      <td>0.700047</td>\n",
       "      <td>0.163806</td>\n",
       "      <td>-0.102237</td>\n",
       "      <td>1.031729</td>\n",
       "      <td>-0.264517</td>\n",
       "      <td>-0.414427</td>\n",
       "    </tr>\n",
       "  </tbody>\n",
       "</table>\n",
       "<p>5 rows × 28 columns</p>\n",
       "</div>"
      ],
      "text/plain": [
       "   Hospital_code  Hospital_type_code  City_Code_Hospital  \\\n",
       "0       0.307627            0.487763           -0.566911   \n",
       "1       1.234125           -0.822919           -0.244563   \n",
       "2       0.886688           -0.167578           -0.889260   \n",
       "3      -1.429558           -0.822919            0.400134   \n",
       "4       1.118313           -0.167578            2.011876   \n",
       "\n",
       "   Available Extra Rooms in Hospital  Ward_Type  Ward_Facility_Code  \\\n",
       "0                          -0.165503   1.383073           -1.940856   \n",
       "1                          -1.024428   1.383073            1.011415   \n",
       "2                          -0.165503  -1.102126           -0.169493   \n",
       "3                          -0.165503  -1.102126            1.011415   \n",
       "4                          -1.024428   0.140473            1.011415   \n",
       "\n",
       "   call night  Bed Grade  City_Code_Patient  Visitors with Patient  ...  \\\n",
       "0   -1.000168  -0.729986          -1.094641              -0.722758  ...   \n",
       "1   -1.000168  -0.729986          -1.094641               0.402568  ...   \n",
       "2    0.999832   1.571032          -1.094641              -0.160095  ...   \n",
       "3    0.999832  -0.729986          -1.094641              -0.160095  ...   \n",
       "4    0.999832  -0.729986          -1.094641               0.402568  ...   \n",
       "\n",
       "   Department_radiotherapy  Department_surgery  \\\n",
       "0                -0.317027           -0.058283   \n",
       "1                -0.317027           -0.058283   \n",
       "2                -0.317027           -0.058283   \n",
       "3                -0.317027           -0.058283   \n",
       "4                -0.317027           -0.058283   \n",
       "\n",
       "   sum_Admission_Deposit_per_illness  sum_Admission_Deposit_per_admission  \\\n",
       "0                           0.880959                            -0.237553   \n",
       "1                           0.880959                             0.840568   \n",
       "2                           0.880959                            -0.237553   \n",
       "3                           0.880959                             0.840568   \n",
       "4                           0.880959                             0.840568   \n",
       "\n",
       "   sum_Admission_Deposit_per_bed  sum_Admission_Deposit_per_hosp  \\\n",
       "0                       0.700047                       -0.771083   \n",
       "1                       0.700047                       -0.404567   \n",
       "2                      -1.282764                        2.065165   \n",
       "3                       0.700047                        0.417472   \n",
       "4                       0.700047                        0.163806   \n",
       "\n",
       "   mean_Admission_Deposit_per_illness  mean_Admission_Deposit_per_admission  \\\n",
       "0                           -0.102237                             -1.091217   \n",
       "1                           -0.102237                              1.031729   \n",
       "2                           -0.102237                             -1.091217   \n",
       "3                           -0.102237                              1.031729   \n",
       "4                           -0.102237                              1.031729   \n",
       "\n",
       "   mean_Admission_Deposit_per_bed  mean_Admission_Deposit_per_hosp  \n",
       "0                       -0.264517                         0.734349  \n",
       "1                       -0.264517                         1.372250  \n",
       "2                        0.782375                         0.096284  \n",
       "3                       -0.264517                        -1.371062  \n",
       "4                       -0.264517                        -0.414427  \n",
       "\n",
       "[5 rows x 28 columns]"
      ]
     },
     "execution_count": 23,
     "metadata": {},
     "output_type": "execute_result"
    }
   ],
   "source": [
    "test = pd.read_csv('Datasets/preprocessed_test_v16_final.csv')\n",
    "test.head()"
   ]
  },
  {
   "cell_type": "code",
   "execution_count": 25,
   "id": "23e91d7d",
   "metadata": {},
   "outputs": [
    {
     "data": {
      "text/plain": [
       "array([0, 5, 2, ..., 1, 1, 3], dtype=int64)"
      ]
     },
     "execution_count": 25,
     "metadata": {},
     "output_type": "execute_result"
    }
   ],
   "source": [
    "# Test model on test set\n",
    "test_y = xgb3.predict(test)\n",
    "test_y"
   ]
  },
  {
   "cell_type": "code",
   "execution_count": 26,
   "id": "bfc02fd1",
   "metadata": {},
   "outputs": [
    {
     "data": {
      "text/html": [
       "<div>\n",
       "<style scoped>\n",
       "    .dataframe tbody tr th:only-of-type {\n",
       "        vertical-align: middle;\n",
       "    }\n",
       "\n",
       "    .dataframe tbody tr th {\n",
       "        vertical-align: top;\n",
       "    }\n",
       "\n",
       "    .dataframe thead th {\n",
       "        text-align: right;\n",
       "    }\n",
       "</style>\n",
       "<table border=\"1\" class=\"dataframe\">\n",
       "  <thead>\n",
       "    <tr style=\"text-align: right;\">\n",
       "      <th></th>\n",
       "      <th>case_id</th>\n",
       "      <th>Stay</th>\n",
       "    </tr>\n",
       "  </thead>\n",
       "  <tbody>\n",
       "    <tr>\n",
       "      <th>0</th>\n",
       "      <td>318439</td>\n",
       "      <td>0-10</td>\n",
       "    </tr>\n",
       "    <tr>\n",
       "      <th>1</th>\n",
       "      <td>318440</td>\n",
       "      <td>51-60</td>\n",
       "    </tr>\n",
       "    <tr>\n",
       "      <th>2</th>\n",
       "      <td>318441</td>\n",
       "      <td>21-30</td>\n",
       "    </tr>\n",
       "    <tr>\n",
       "      <th>3</th>\n",
       "      <td>318442</td>\n",
       "      <td>21-30</td>\n",
       "    </tr>\n",
       "    <tr>\n",
       "      <th>4</th>\n",
       "      <td>318443</td>\n",
       "      <td>51-60</td>\n",
       "    </tr>\n",
       "  </tbody>\n",
       "</table>\n",
       "</div>"
      ],
      "text/plain": [
       "   case_id   Stay\n",
       "0   318439   0-10\n",
       "1   318440  51-60\n",
       "2   318441  21-30\n",
       "3   318442  21-30\n",
       "4   318443  51-60"
      ]
     },
     "execution_count": 26,
     "metadata": {},
     "output_type": "execute_result"
    }
   ],
   "source": [
    "test_y_result = pd.read_csv('Results/test_sub_template.csv')\n",
    "test_y_result.head()"
   ]
  },
  {
   "cell_type": "code",
   "execution_count": 27,
   "id": "7b3270f4",
   "metadata": {},
   "outputs": [
    {
     "data": {
      "text/html": [
       "<div>\n",
       "<style scoped>\n",
       "    .dataframe tbody tr th:only-of-type {\n",
       "        vertical-align: middle;\n",
       "    }\n",
       "\n",
       "    .dataframe tbody tr th {\n",
       "        vertical-align: top;\n",
       "    }\n",
       "\n",
       "    .dataframe thead th {\n",
       "        text-align: right;\n",
       "    }\n",
       "</style>\n",
       "<table border=\"1\" class=\"dataframe\">\n",
       "  <thead>\n",
       "    <tr style=\"text-align: right;\">\n",
       "      <th></th>\n",
       "      <th>case_id</th>\n",
       "      <th>Stay</th>\n",
       "    </tr>\n",
       "  </thead>\n",
       "  <tbody>\n",
       "    <tr>\n",
       "      <th>0</th>\n",
       "      <td>318439</td>\n",
       "      <td>0</td>\n",
       "    </tr>\n",
       "    <tr>\n",
       "      <th>1</th>\n",
       "      <td>318440</td>\n",
       "      <td>5</td>\n",
       "    </tr>\n",
       "    <tr>\n",
       "      <th>2</th>\n",
       "      <td>318441</td>\n",
       "      <td>2</td>\n",
       "    </tr>\n",
       "    <tr>\n",
       "      <th>3</th>\n",
       "      <td>318442</td>\n",
       "      <td>2</td>\n",
       "    </tr>\n",
       "    <tr>\n",
       "      <th>4</th>\n",
       "      <td>318443</td>\n",
       "      <td>5</td>\n",
       "    </tr>\n",
       "    <tr>\n",
       "      <th>...</th>\n",
       "      <td>...</td>\n",
       "      <td>...</td>\n",
       "    </tr>\n",
       "    <tr>\n",
       "      <th>137052</th>\n",
       "      <td>455491</td>\n",
       "      <td>2</td>\n",
       "    </tr>\n",
       "    <tr>\n",
       "      <th>137053</th>\n",
       "      <td>455492</td>\n",
       "      <td>0</td>\n",
       "    </tr>\n",
       "    <tr>\n",
       "      <th>137054</th>\n",
       "      <td>455493</td>\n",
       "      <td>1</td>\n",
       "    </tr>\n",
       "    <tr>\n",
       "      <th>137055</th>\n",
       "      <td>455494</td>\n",
       "      <td>1</td>\n",
       "    </tr>\n",
       "    <tr>\n",
       "      <th>137056</th>\n",
       "      <td>455495</td>\n",
       "      <td>3</td>\n",
       "    </tr>\n",
       "  </tbody>\n",
       "</table>\n",
       "<p>137057 rows × 2 columns</p>\n",
       "</div>"
      ],
      "text/plain": [
       "        case_id  Stay\n",
       "0        318439     0\n",
       "1        318440     5\n",
       "2        318441     2\n",
       "3        318442     2\n",
       "4        318443     5\n",
       "...         ...   ...\n",
       "137052   455491     2\n",
       "137053   455492     0\n",
       "137054   455493     1\n",
       "137055   455494     1\n",
       "137056   455495     3\n",
       "\n",
       "[137057 rows x 2 columns]"
      ]
     },
     "execution_count": 27,
     "metadata": {},
     "output_type": "execute_result"
    }
   ],
   "source": [
    "test_y_result['Stay'] = test_y\n",
    "test_y_result"
   ]
  },
  {
   "cell_type": "code",
   "execution_count": 28,
   "id": "a8d6f6aa",
   "metadata": {},
   "outputs": [
    {
     "name": "stdout",
     "output_type": "stream",
     "text": [
      "{0: '0-10', 1: '11-20', 2: '21-30', 3: '31-40', 4: '41-50', 5: '51-60', 6: '61-70', 7: '71-80', 8: '81-90', 9: '91-100', 10: 'More than 100 Days'}\n"
     ]
    }
   ],
   "source": [
    "# Map 0-10 Stay results to original 0-10, 11-20 etc\n",
    "dict_col = {'0-10':[0], '11-20':[1], '21-30':[2], '31-40':[3], '41-50':[4], '51-60':[5], '61-70':[6], '71-80':[7], '81-90':[8], '91-100':[9], 'More than 100 Days':[10]}\n",
    "d = {k: oldk for oldk, oldv in dict_col.items() for k in oldv}\n",
    "print(d)"
   ]
  },
  {
   "cell_type": "code",
   "execution_count": 29,
   "id": "ac66924b",
   "metadata": {},
   "outputs": [
    {
     "data": {
      "text/html": [
       "<div>\n",
       "<style scoped>\n",
       "    .dataframe tbody tr th:only-of-type {\n",
       "        vertical-align: middle;\n",
       "    }\n",
       "\n",
       "    .dataframe tbody tr th {\n",
       "        vertical-align: top;\n",
       "    }\n",
       "\n",
       "    .dataframe thead th {\n",
       "        text-align: right;\n",
       "    }\n",
       "</style>\n",
       "<table border=\"1\" class=\"dataframe\">\n",
       "  <thead>\n",
       "    <tr style=\"text-align: right;\">\n",
       "      <th></th>\n",
       "      <th>case_id</th>\n",
       "      <th>Stay</th>\n",
       "    </tr>\n",
       "  </thead>\n",
       "  <tbody>\n",
       "    <tr>\n",
       "      <th>0</th>\n",
       "      <td>318439</td>\n",
       "      <td>0-10</td>\n",
       "    </tr>\n",
       "    <tr>\n",
       "      <th>1</th>\n",
       "      <td>318440</td>\n",
       "      <td>51-60</td>\n",
       "    </tr>\n",
       "    <tr>\n",
       "      <th>2</th>\n",
       "      <td>318441</td>\n",
       "      <td>21-30</td>\n",
       "    </tr>\n",
       "    <tr>\n",
       "      <th>3</th>\n",
       "      <td>318442</td>\n",
       "      <td>21-30</td>\n",
       "    </tr>\n",
       "    <tr>\n",
       "      <th>4</th>\n",
       "      <td>318443</td>\n",
       "      <td>51-60</td>\n",
       "    </tr>\n",
       "    <tr>\n",
       "      <th>...</th>\n",
       "      <td>...</td>\n",
       "      <td>...</td>\n",
       "    </tr>\n",
       "    <tr>\n",
       "      <th>137052</th>\n",
       "      <td>455491</td>\n",
       "      <td>21-30</td>\n",
       "    </tr>\n",
       "    <tr>\n",
       "      <th>137053</th>\n",
       "      <td>455492</td>\n",
       "      <td>0-10</td>\n",
       "    </tr>\n",
       "    <tr>\n",
       "      <th>137054</th>\n",
       "      <td>455493</td>\n",
       "      <td>11-20</td>\n",
       "    </tr>\n",
       "    <tr>\n",
       "      <th>137055</th>\n",
       "      <td>455494</td>\n",
       "      <td>11-20</td>\n",
       "    </tr>\n",
       "    <tr>\n",
       "      <th>137056</th>\n",
       "      <td>455495</td>\n",
       "      <td>31-40</td>\n",
       "    </tr>\n",
       "  </tbody>\n",
       "</table>\n",
       "<p>137057 rows × 2 columns</p>\n",
       "</div>"
      ],
      "text/plain": [
       "        case_id   Stay\n",
       "0        318439   0-10\n",
       "1        318440  51-60\n",
       "2        318441  21-30\n",
       "3        318442  21-30\n",
       "4        318443  51-60\n",
       "...         ...    ...\n",
       "137052   455491  21-30\n",
       "137053   455492   0-10\n",
       "137054   455493  11-20\n",
       "137055   455494  11-20\n",
       "137056   455495  31-40\n",
       "\n",
       "[137057 rows x 2 columns]"
      ]
     },
     "execution_count": 29,
     "metadata": {},
     "output_type": "execute_result"
    }
   ],
   "source": [
    "test_y_result['Stay'] = test_y_result['Stay'].map(d)\n",
    "test_y_result"
   ]
  },
  {
   "cell_type": "code",
   "execution_count": 30,
   "id": "ef67787e",
   "metadata": {},
   "outputs": [
    {
     "data": {
      "text/plain": [
       "Stay\n",
       "0-10                   4436\n",
       "11-20                 38664\n",
       "21-30                 58105\n",
       "31-40                 13595\n",
       "41-50                   137\n",
       "51-60                 18046\n",
       "61-70                    29\n",
       "71-80                   596\n",
       "81-90                  1190\n",
       "91-100                   99\n",
       "More than 100 Days     2160\n",
       "Name: case_id, dtype: int64"
      ]
     },
     "execution_count": 30,
     "metadata": {},
     "output_type": "execute_result"
    }
   ],
   "source": [
    "# Final classification results in a table format\n",
    "test_y_result.groupby(['Stay'])['case_id'].count()"
   ]
  },
  {
   "cell_type": "code",
   "execution_count": 31,
   "id": "dacce0a0",
   "metadata": {},
   "outputs": [],
   "source": [
    "# Save submission results\n",
    "test_y_result.to_csv('Results/test_sub_v16_0330.csv',index=False)"
   ]
  },
  {
   "cell_type": "markdown",
   "id": "46d76581",
   "metadata": {},
   "source": [
    "Comment on the tabular test data results: The final classification results showed more predictions in 21-30 and 11-20, which algins with the skewed data distribution. As there are more data in these two categories, the model tennds to classify the predictions as these two categories. To improve the model performance, more data need to be collected in ohter categories or deep learning models and data augmentation techniques need to be utilized to improve the feature learning process by the model."
   ]
  },
  {
   "cell_type": "code",
   "execution_count": 1,
   "id": "25c12352",
   "metadata": {},
   "outputs": [
    {
     "name": "stderr",
     "output_type": "stream",
     "text": [
      "[NbConvertApp] Converting notebook A1_final_modelHyperparameterSelection_v2.ipynb to html\n",
      "[NbConvertApp] Writing 702536 bytes to A1_final_modelHyperparameterSelection_v2.html\n"
     ]
    }
   ],
   "source": [
    "!jupyter nbconvert --to html A1_final_modelHyperparameterSelection_v2.ipynb"
   ]
  }
 ],
 "metadata": {
  "kernelspec": {
   "display_name": "BMEG3103_pract",
   "language": "python",
   "name": "bmeg3103_pract"
  },
  "language_info": {
   "codemirror_mode": {
    "name": "ipython",
    "version": 3
   },
   "file_extension": ".py",
   "mimetype": "text/x-python",
   "name": "python",
   "nbconvert_exporter": "python",
   "pygments_lexer": "ipython3",
   "version": "3.9.7"
  }
 },
 "nbformat": 4,
 "nbformat_minor": 5
}
